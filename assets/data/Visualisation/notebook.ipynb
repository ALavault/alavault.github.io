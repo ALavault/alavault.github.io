{
 "cells": [
  {
   "attachments": {},
   "cell_type": "markdown",
   "metadata": {},
   "source": [
    "# Quelques outils de visualisation"
   ]
  },
  {
   "attachments": {},
   "cell_type": "markdown",
   "metadata": {},
   "source": [
    "Aujourd'hui, deux modules pour la visualisation de données \n",
    "\n",
    "* [matplotlib](https://matplotlib.org/)\n",
    "* [seaborn](https://seaborn.pydata.org/)\n"
   ]
  },
  {
   "cell_type": "markdown",
   "metadata": {},
   "source": [
    "## 1. Matplotlib"
   ]
  },
  {
   "attachments": {},
   "cell_type": "markdown",
   "metadata": {},
   "source": [
    "Matplotlib est une bibliothèque de visualisation générale qui offre une grande liberté en matière d'édition de tracés.\n",
    "\n",
    "Dans cette section, nous nous concentrerons sur certains aspects qu'il est intéressant de connaître lorsque l'on souhaite personnaliser ses tracés. Dans tous les cas, n'hésitez pas à vous référer à la [gallerie matplotlib] (https://matplotlib.org/gallery/index.html) qui contient de nombreux exemples pouvant servir de base à vos tracés."
   ]
  },
  {
   "cell_type": "code",
   "execution_count": null,
   "metadata": {},
   "outputs": [],
   "source": [
    "import numpy as np\n",
    "import matplotlib.pyplot as plt\n",
    "%matplotlib inline"
   ]
  },
  {
   "attachments": {},
   "cell_type": "markdown",
   "metadata": {},
   "source": [
    "### 1.1 Tracé sur un axe"
   ]
  },
  {
   "attachments": {},
   "cell_type": "markdown",
   "metadata": {},
   "source": [
    "Un exemple simple, le tracé de la fonction $f(x) = cos(x)$"
   ]
  },
  {
   "cell_type": "code",
   "execution_count": null,
   "metadata": {},
   "outputs": [],
   "source": [
    "x = np.arange(-10, 10, 0.2)\n",
    "fx = np.cos(x)"
   ]
  },
  {
   "cell_type": "code",
   "execution_count": null,
   "metadata": {},
   "outputs": [],
   "source": [
    "plt.plot(x, fx)"
   ]
  },
  {
   "attachments": {},
   "cell_type": "markdown",
   "metadata": {},
   "source": [
    "Il est facile de placer plusieurs lignes sur le même tracé :"
   ]
  },
  {
   "cell_type": "code",
   "execution_count": null,
   "metadata": {},
   "outputs": [],
   "source": [
    "gx = np.cos(2 * x)"
   ]
  },
  {
   "cell_type": "code",
   "execution_count": null,
   "metadata": {},
   "outputs": [],
   "source": [
    "plt.plot(x, gx)\n",
    "plt.plot(x, fx)"
   ]
  },
  {
   "attachments": {},
   "cell_type": "markdown",
   "metadata": {},
   "source": [
    "Le paramètre `label` permet d'associer un tracé à une étiquette spécifique. Pour afficher la légende, vous devez appeler la fonction `plt.legend()`. \n",
    "\n",
    "Référez-vous au tutoriel de matplotlib [ici](https://matplotlib.org/users/legend_guide.html) pour plus de détails."
   ]
  },
  {
   "cell_type": "code",
   "execution_count": null,
   "metadata": {},
   "outputs": [],
   "source": [
    "plt.plot(x, gx, label=\"g(x) = cos(2x)\")\n",
    "plt.plot(x, fx, label=\"f(x) = cos(x)\")\n",
    "plt.legend(loc=3)"
   ]
  },
  {
   "attachments": {},
   "cell_type": "markdown",
   "metadata": {},
   "source": [
    "Le style de tracé des lignes peut être facilement changé avec les paramètres : `color`, `linewidth`, `linestyle`, `marker`, et `markersize`."
   ]
  },
  {
   "cell_type": "code",
   "execution_count": null,
   "metadata": {},
   "outputs": [],
   "source": [
    "plt.plot(x, gx, label=\"g(x) = cos(2x)\", linewidth=4, linestyle='--', color='red')\n",
    "plt.plot(x, fx, label=\"f(x) = cos(x)\", marker='o', markersize=11, color='blue')\n",
    "plt.legend(loc=3)"
   ]
  },
  {
   "attachments": {},
   "cell_type": "markdown",
   "metadata": {},
   "source": [
    "Et on n'oublie le titre et les axes !"
   ]
  },
  {
   "cell_type": "code",
   "execution_count": null,
   "metadata": {},
   "outputs": [],
   "source": [
    "plt.plot(x, gx, label=\"g(x) = cos(2x)\", linewidth=4, linestyle='--', color='red')\n",
    "plt.plot(x, fx, label=\"f(x) = cos(x)\", marker='o', markersize=11, color='blue')\n",
    "plt.legend(loc=3)\n",
    "plt.title('Title of the plot')\n",
    "plt.xlabel('x')\n",
    "plt.ylabel('y')"
   ]
  },
  {
   "attachments": {},
   "cell_type": "markdown",
   "metadata": {},
   "source": [
    "Quelques autres fonctions utiles (mais pas les seules) : `axis`, `xticks`, ou `yticks`."
   ]
  },
  {
   "cell_type": "code",
   "execution_count": null,
   "metadata": {},
   "outputs": [],
   "source": [
    "plt.plot(x, gx, label=\"g(x) = cos(2x)\", linewidth=4, linestyle='--', color='red')\n",
    "plt.plot(x, fx, label=\"f(x) = cos(x)\", marker='o', markersize=11, color='blue')\n",
    "plt.legend(loc=3)\n",
    "plt.title('Title of the plot')\n",
    "plt.xlabel('x')\n",
    "plt.ylabel('y')\n",
    "plt.axis([-5, 5, -1, 1])\n",
    "plt.xticks(np.arange(-5, 5, 2.5))\n",
    "plt.yticks([-1, 0, 1])"
   ]
  },
  {
   "attachments": {},
   "cell_type": "markdown",
   "metadata": {},
   "source": [
    "### 1.2 Tracés avec plusieurs axes"
   ]
  },
  {
   "attachments": {},
   "cell_type": "markdown",
   "metadata": {},
   "source": [
    "Il est très pratique de pouvoir tracer un graphique sur plusieurs axes à la fois. Vous pouvez utiliser la fonction `plt.subplots` pour le faire."
   ]
  },
  {
   "cell_type": "code",
   "execution_count": null,
   "metadata": {},
   "outputs": [],
   "source": [
    "fig, axs = plt.subplots(nrows=2, ncols=3)"
   ]
  },
  {
   "cell_type": "code",
   "execution_count": null,
   "metadata": {},
   "outputs": [],
   "source": [
    "print(axs)"
   ]
  },
  {
   "attachments": {},
   "cell_type": "markdown",
   "metadata": {},
   "source": [
    "Nous pouvons voir que `subplots` créera le nombre d'axes désirés et retournera une liste de ces axes qui peuvent être utilisés pour tracer les données."
   ]
  },
  {
   "cell_type": "code",
   "execution_count": null,
   "metadata": {},
   "outputs": [],
   "source": [
    "fig, axs = plt.subplots(nrows=2, ncols=3)\n",
    "for ax, alpha in zip(axs.ravel(), range(1, 7)):\n",
    "    ax.plot(x, np.cos(alpha * x))"
   ]
  },
  {
   "attachments": {},
   "cell_type": "markdown",
   "metadata": {},
   "source": [
    "Vous pouvez définir l'étiquette en utilisant `ax` au lieu de `plt` et habituellement la fonction `set_`. En cas de problème de chevauchement des étiquettes, vous pouvez utiliser la fonction `plt.tight_layout()` à la fin de votre tracé."
   ]
  },
  {
   "cell_type": "code",
   "execution_count": null,
   "metadata": {},
   "outputs": [],
   "source": [
    "fig, axs = plt.subplots(nrows=2, ncols=3)\n",
    "for ax, alpha in zip(axs.ravel(), range(1, 7)):\n",
    "    ax.plot(x, np.cos(alpha * x))\n",
    "    ax.set_xlabel('x')\n",
    "    ax.set_ylabel('y')\n",
    "plt.tight_layout()"
   ]
  },
  {
   "attachments": {},
   "cell_type": "markdown",
   "metadata": {},
   "source": [
    "## 2. Seaborn"
   ]
  },
  {
   "attachments": {},
   "cell_type": "markdown",
   "metadata": {},
   "source": [
    "`seaborn` propose des fonctions de tracés avancés pour l'exploration des données qui seraient plus difficiles à écrire uniquement dans `matplotlib`. `seaborn` utilise à la fois `matplotlib` et `pandas` pour fournir ces extensions de tracé.\n",
    "\n",
    "Référez-vous à la [gallerie searborn] (https://seaborn.pydata.org/examples/index.html) pour voir tous les tracés additionnels fournis par `seaborn`."
   ]
  },
  {
   "attachments": {},
   "cell_type": "markdown",
   "metadata": {},
   "source": [
    "### 2.1  `Seaborn` pour les tracés et l'analyse statistique"
   ]
  },
  {
   "attachments": {},
   "cell_type": "markdown",
   "metadata": {},
   "source": [
    "Nous avons déjà utilisé `matplotlib` pour visualiser quelques informations. `seaborn` offre de belles possibilités de tracé pour réaliser des analyses statistiques avec un minimum de prétraitement."
   ]
  },
  {
   "cell_type": "code",
   "execution_count": null,
   "metadata": {},
   "outputs": [],
   "source": [
    "import seaborn as sns\n",
    "df = sns.load_dataset(\"titanic\")"
   ]
  },
  {
   "cell_type": "code",
   "execution_count": null,
   "metadata": {},
   "outputs": [],
   "source": [
    "df.head() # Ceci est un pandas DataFrame. On jouera avec plus tard :)"
   ]
  },
  {
   "attachments": {},
   "cell_type": "markdown",
   "metadata": {},
   "source": [
    "Consultez la documentation de `seaborn.catplot` et tracez le taux de survie en fonction de la classe et du sexe."
   ]
  },
  {
   "cell_type": "code",
   "execution_count": null,
   "metadata": {},
   "outputs": [],
   "source": [
    "sns.catplot(data=df, x='pclass', y='survived', hue='sex', kind='bar')"
   ]
  },
  {
   "attachments": {},
   "cell_type": "markdown",
   "metadata": {},
   "source": [
    "Parfois, il est intéressant de voir les différences de distribution de certaines variables. \n",
    "\n",
    "La fonction `seaborn.boxplot` permet de tracer de telles interactions. Vous pouvez utiliser cette fonction pour tracer la distribution `Fare` en divisant les données à l'aide des variables `Survived` et `Sex`."
   ]
  },
  {
   "cell_type": "code",
   "execution_count": null,
   "metadata": {},
   "outputs": [],
   "source": [
    "sns.boxplot(data=df, y='fare', x='survived', hue='sex', whis=1000)"
   ]
  },
  {
   "attachments": {},
   "cell_type": "markdown",
   "metadata": {},
   "source": [
    "Le boxplot donne des informations sur les différents quantiles. On peut utiliser `seaborn.violinplot` pour obtenir les informations sur la distribution au lieu des quantiles. Consultez la documentation de `seaborn.violinplot` et tracez les mêmes informations que précédemment."
   ]
  },
  {
   "cell_type": "code",
   "execution_count": null,
   "metadata": {},
   "outputs": [],
   "source": [
    "sns.violinplot(data=df, y='fare', x='survived', hue='sex', split=True)"
   ]
  },
  {
   "attachments": {},
   "cell_type": "markdown",
   "metadata": {},
   "source": [
    "Un autre outil de traçage utile est la fonction `seaborn.paiplot` qui permet de tracer l'interaction entre les différentes caractéristiques."
   ]
  },
  {
   "cell_type": "code",
   "execution_count": null,
   "metadata": {},
   "outputs": [],
   "source": [
    "sns.pairplot(df, hue='survived')"
   ]
  },
  {
   "attachments": {},
   "cell_type": "markdown",
   "metadata": {},
   "source": [
    "Cependant, cette méthode de tracé est mieux adaptée à la visualisation de l'interaction pour des caractéristiques continues et avec un nombre limité de caractéristiques. Voyons un exemple avec le jeu de données `iris`."
   ]
  },
  {
   "cell_type": "code",
   "execution_count": null,
   "metadata": {},
   "outputs": [],
   "source": [
    "import seaborn as sns\n",
    "sns.set(style=\"ticks\")\n",
    "\n",
    "df = sns.load_dataset(\"iris\")\n",
    "sns.pairplot(df, hue=\"species\")"
   ]
  },
  {
   "attachments": {},
   "cell_type": "markdown",
   "metadata": {},
   "source": [
    "### 2.2 Utilisation de Seaborn pour rendre les tracés plus lisibles"
   ]
  },
  {
   "attachments": {},
   "cell_type": "markdown",
   "metadata": {},
   "source": [
    "Ici, nous allons présenter quelques fonctions qui sont vraiment utiles même si vous n'utilisez que les graphiques normaux de `matplotlib`.\n",
    "\n",
    "Lorsque vous utilisez `matplotlib`, une erreur typique est de conserver le style original dans lequel la taille de la police et des lignes peut être trop petite en fonction du média dans lequel vous voulez montrer vos graphiques (i.e. présentation, article, rapport, etc.)."
   ]
  },
  {
   "cell_type": "code",
   "execution_count": null,
   "metadata": {},
   "outputs": [],
   "source": [
    "plt.plot(x, gx, label=\"g(x) = cos(2x)\")\n",
    "plt.plot(x, fx, label=\"f(x) = cos(x)\")\n",
    "plt.legend(loc=3)"
   ]
  },
  {
   "attachments": {},
   "cell_type": "markdown",
   "metadata": {},
   "source": [
    "`seaborn` offre un gestionnaire de contexte, `plotting_context()` qui changera automatiquement le style de tracé en fonction de votre média."
   ]
  },
  {
   "cell_type": "code",
   "execution_count": null,
   "metadata": {},
   "outputs": [],
   "source": [
    "import seaborn as sns"
   ]
  },
  {
   "cell_type": "code",
   "execution_count": null,
   "metadata": {},
   "outputs": [],
   "source": [
    "# Point Python : le with est un mot-clé très utile avec les gestionnaires de contexte (évite de gérer la destruction/fuite mémoire)\n",
    "with sns.plotting_context(\"poster\"):  # peut aussi être {paper, notebook, talk, poster}\n",
    "    plt.plot(x, gx, label=\"g(x) = cos(2x)\")\n",
    "    plt.plot(x, fx, label=\"f(x) = cos(x)\")\n",
    "    plt.legend(loc=3)"
   ]
  },
  {
   "attachments": {},
   "cell_type": "markdown",
   "metadata": {},
   "source": [
    "Dans le cas où la figure est difficile à lire, nous devrions probablement supprimer les informations qui ne sont pas nécessaires :\n",
    "\n",
    "* Supprimer les coches qui ne sont pas nécessaires en utilisant les fonctions `xticks()` et `yticks()`.\n",
    "* Enlever les \"ergots\" en utilisant la fonction `sns.despine()`.\n",
    "* Limiter la plage de valeurs avec la fonction `axis()`.\n",
    "* Déplacer éventuellement la légende."
   ]
  },
  {
   "cell_type": "code",
   "execution_count": null,
   "metadata": {},
   "outputs": [],
   "source": [
    "with sns.plotting_context(\"poster\"):  # could be also one of {paper, notebook, talk, poster}\n",
    "    plt.plot(x, gx, label=\"g(x) = cos(2x)\", linestyle='--')\n",
    "    plt.plot(x, fx, label=\"f(x) = cos(x)\", linestyle=':')\n",
    "    plt.xticks(np.arange(-10, 11, 5))\n",
    "    plt.yticks([-1, 0, 1])\n",
    "    sns.despine(offset=10)\n",
    "    plt.axis([-10, 10, -1, 1])\n",
    "    plt.legend(bbox_to_anchor=(1.05, 1), loc=2, borderaxespad=0.)\n",
    "    plt.xlabel('x')\n",
    "    plt.ylabel('y')\n",
    "    plt.title('Title of this plot')"
   ]
  }
 ],
 "metadata": {
  "kernelspec": {
   "display_name": "Python 3",
   "language": "python",
   "name": "python3"
  },
  "language_info": {
   "codemirror_mode": {
    "name": "ipython",
    "version": 3
   },
   "file_extension": ".py",
   "mimetype": "text/x-python",
   "name": "python",
   "nbconvert_exporter": "python",
   "pygments_lexer": "ipython3",
   "version": "3.8.13"
  }
 },
 "nbformat": 4,
 "nbformat_minor": 4
}
