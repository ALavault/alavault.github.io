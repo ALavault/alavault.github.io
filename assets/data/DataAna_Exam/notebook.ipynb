{
  "cells": [
    {
      "cell_type": "code",
      "source": [
        "import numpy as np\n",
        "import matplotlib.pyplot as plt\n",
        "from sklearn import datasets\n",
        "import seaborn as sns\n",
        "random_state = 170\n",
        "common_params = {\n",
        "    \"n_init\": 10,\n",
        "    \"random_state\": random_state,\n",
        "}\n",
        "\n",
        "%matplotlib inline\n",
        "plt.rcParams['figure.figsize'] = [10, 7]\n"
      ],
      "outputs": [],
      "execution_count": null,
      "metadata": {}
    },
    {
      "attachments": {},
      "cell_type": "markdown",
      "source": [
        "# Examen - Analyse de Données\n",
        "* Deadline: 09/04/2023, 23h59\n",
        "* A rendre sur Teams (section Devoirs)\n",
        "* Les objectifs pédagogiques de cet examen sont les suivants:\n",
        "  * Capacités de programmation basiques en Python\n",
        "  * Capacités de programmation avancées en Python\n",
        "  * Capacités de réflexion quand présenté avec un problème nouveau\n",
        "  * Capacité à mobiliser les connaissances dans le cadre d'un problème nouveau.\n",
        "  * Capacité d'interpréter avec recul et objectivité des résultats statistiques.\n",
        "  * Capacité à choisir les outils convenables pour un problème donné.\n",
        "* L'examen est long, ne commencez pas deux heures avant la deadline."
      ],
      "metadata": {}
    },
    {
      "attachments": {},
      "cell_type": "markdown",
      "source": [
        "## Exercice - Interprétation de données (6 pts)"
      ],
      "metadata": {}
    },
    {
      "cell_type": "markdown",
      "source": [
        "\n",
        "### Q1\n",
        "* Imprimer, avec la fonction `print`, les noms des classes ainsi que les noms des features du dataset \"Iris\" (2pts)"
      ],
      "metadata": {}
    },
    {
      "cell_type": "code",
      "source": [
        "\n",
        "iris = datasets.load_iris()\n",
        "\n",
        "X = None # COMPLETE ME\n",
        "y = None # COMPLETE ME \n",
        "target_names = None # COMPLETE ME \n",
        "feature_names = None # COMPLETE ME \n",
        "print(\"\")"
      ],
      "outputs": [],
      "execution_count": null,
      "metadata": {}
    },
    {
      "attachments": {},
      "cell_type": "markdown",
      "source": [
        "### Q2\n",
        "On veut pouvoir visualiser les données présentes dans le dataset Iris d'une manière convenable.\n",
        "\n",
        "Quel type de méthode peut-on utiliser ? Justifier la réponse et décriver la méthode utilisée. (3pts)"
      ],
      "metadata": {}
    },
    {
      "attachments": {},
      "cell_type": "markdown",
      "source": [
        "COMPLETE ME!!!"
      ],
      "metadata": {}
    },
    {
      "attachments": {},
      "cell_type": "markdown",
      "source": [
        "### Q3\n",
        "Ce dataset se prête facilement à un certain type de tâche: lequel ? Justifiez. (1 pts)"
      ],
      "metadata": {}
    },
    {
      "attachments": {},
      "cell_type": "markdown",
      "source": [
        "COMPLETEME"
      ],
      "metadata": {}
    },
    {
      "attachments": {},
      "cell_type": "markdown",
      "source": [
        "## Exercice - Clustering (11 pts)"
      ],
      "metadata": {}
    },
    {
      "attachments": {},
      "cell_type": "markdown",
      "source": [
        "Cet exercice a pour but de vérifier les hypothèses validées par un modèle K-Means."
      ],
      "metadata": {}
    },
    {
      "attachments": {},
      "cell_type": "markdown",
      "source": [
        "### Q1\n",
        "Décrivez le fonctionnement du code ci-dessous et le contenu des 4 datasets (décrire brièvement) (1+2pts)"
      ],
      "metadata": {}
    },
    {
      "cell_type": "code",
      "source": [
        "n_samples = 1500\n",
        "transformation = [[0.60834549, -0.63667341], [-0.40887718, 0.85253229]]\n",
        "\n",
        "X, y = datasets.make_blobs(n_samples=n_samples, random_state=random_state) # Dataset 1\n",
        "X_2 = np.dot(X, transformation)  # Dataset 2\n",
        "X_3, y_3 = datasets.make_blobs(\n",
        "    n_samples=n_samples, cluster_std=[1.0, 2.5, 0.5], random_state=random_state\n",
        ")  # Dataset 3\n",
        "X_4 = np.vstack(\n",
        "    (X[y == 0][:500], X[y == 1][:100], X[y == 2][:10])\n",
        ") # Dataset 4\n",
        "y_4 = [0] * 500 + [1] * 100 + [2] * 10"
      ],
      "outputs": [],
      "execution_count": null,
      "metadata": {}
    },
    {
      "attachments": {},
      "cell_type": "markdown",
      "source": [
        "COMPLETEME"
      ],
      "metadata": {}
    },
    {
      "attachments": {},
      "cell_type": "markdown",
      "source": [
        "### Q2\n",
        "Le code suivant permet de visualiser les données:"
      ],
      "metadata": {}
    },
    {
      "cell_type": "code",
      "source": [
        "fig, axs = plt.subplots(nrows=2, ncols=2, figsize=(12, 12))\n",
        "\n",
        "axs[0, 0].scatter(X[:, 0], X[:, 1], c=y)\n",
        "axs[0, 0].set_title(\"Dataset 1\")\n",
        "\n",
        "axs[0, 1].scatter(X_2[:, 0], X_2[:, 1], c=y)\n",
        "axs[0, 1].set_title(\"Dataset 2\")\n",
        "\n",
        "axs[1, 0].scatter(X_3[:, 0], X_3[:, 1], c=y_3)\n",
        "axs[1, 0].set_title(\"Dataset 3\")\n",
        "\n",
        "axs[1, 1].scatter(X_4[:, 0], X_4[:, 1], c=y_4)\n",
        "axs[1, 1].set_title(\"Dataset 4\")\n",
        "\n",
        "plt.suptitle(\"Ground truth clusters\").set_y(0.95)\n",
        "plt.show()"
      ],
      "outputs": [],
      "execution_count": null,
      "metadata": {}
    },
    {
      "attachments": {},
      "cell_type": "markdown",
      "source": [
        "* En vous inspirant du code ci-dessus, présenter les résultats de l'application de KMeans sur les 4 datasets et interprétez les figures (5pts)\n",
        "\n",
        "Indication : changer les titres des figures pour les rendre plus explicites sera une très bonne chose !"
      ],
      "metadata": {}
    },
    {
      "cell_type": "code",
      "source": [],
      "outputs": [],
      "execution_count": null,
      "metadata": {}
    },
    {
      "attachments": {},
      "cell_type": "markdown",
      "source": [
        "### Q3 (2pts)\n",
        "* Dans le cas où les données sont en hautes dimensions, que ce passe-t-il avec les distances ?\n",
        "* Comment peut-on limiter l'impact de ce problème ?"
      ],
      "metadata": {}
    },
    {
      "attachments": {},
      "cell_type": "markdown",
      "source": [
        "COMPLETEME"
      ],
      "metadata": {}
    },
    {
      "attachments": {},
      "cell_type": "markdown",
      "source": [
        "## Exercice - Quartet d'Anscombe (10 pts)"
      ],
      "metadata": {}
    },
    {
      "cell_type": "code",
      "source": [
        "df_anscombe = sns.load_dataset(\"anscombe\")\n",
        "df_anscombe.head()"
      ],
      "outputs": [],
      "execution_count": null,
      "metadata": {}
    },
    {
      "attachments": {},
      "cell_type": "markdown",
      "source": [
        "### Q1 - 4 pts\n",
        "\n",
        "* Affichez les 4 datasets (I, II, III, IV) d'Anscombe. (2pts)\n",
        "* Affichez les éléments suivants, par dataset: (2pts)\n",
        "    * Moyenne des x\n",
        "    * Variance des x\n",
        "    * Moyenne des y\n",
        "    * Variance des y\n",
        "    * Coefficient de corrélation entre les x et les y\n",
        "    * Équation de la droite de régression linéaire\n",
        "    * Somme des carrés des erreurs relativement à la moyenne\n",
        "\n",
        "*Indication:* les statistiques doivent être obtenues dynamiquement. Les f-strings pourront être utiles ici."
      ],
      "metadata": {}
    },
    {
      "attachments": {},
      "cell_type": "markdown",
      "source": [
        "### Q2 (2pts)\n",
        "\n",
        "Vu la visualisation faite à la question précédente, que dire des statistiques calculées elles aussi à la question précédente ? (2pts)"
      ],
      "metadata": {}
    },
    {
      "attachments": {},
      "cell_type": "markdown",
      "source": [
        "### Q3 (4 pts)\n",
        "\n",
        "Proposez de meilleures estimations (si possible) pour chacun des datasets. Justifiez (4 pts)"
      ],
      "metadata": {}
    },
    {
      "cell_type": "code",
      "source": [
        "# COMPLETE ME"
      ],
      "outputs": [],
      "execution_count": null,
      "metadata": {}
    },
    {
      "attachments": {},
      "cell_type": "markdown",
      "source": [
        "COMPLETE ME"
      ],
      "metadata": {}
    },
    {
      "attachments": {},
      "cell_type": "markdown",
      "source": [
        "## Exercice - Classification (10 pts)"
      ],
      "metadata": {}
    },
    {
      "attachments": {},
      "cell_type": "markdown",
      "source": [
        "### Q1 (0 pts)\n",
        "Récupérer les images à l’adresse https://www.cs.columbia.edu/CAVE/software/softlib/coil-20.php et en particulier la version du dataset traitée (processed)."
      ],
      "metadata": {}
    },
    {
      "attachments": {},
      "cell_type": "markdown",
      "source": [
        "### Q2 (2pts)\n",
        "Construire un conteneur avec les valeurs des 7 moments de Hu (calculées sur les éléments du dataset) ainsi que le numéro de classe (contenu dans les noms des fichiers).\n",
        "\n",
        "*Indication :* des fonctions permettant d’ouvrir les images et calculer les 7 moments de Hu sont disponibles dans le paquet scikit-image."
      ],
      "metadata": {}
    },
    {
      "cell_type": "code",
      "source": [],
      "outputs": [],
      "execution_count": null,
      "metadata": {}
    },
    {
      "attachments": {},
      "cell_type": "markdown",
      "source": [
        "### Q3 (2pts)\n",
        "\n",
        "Entraîner un classificateur SVM noyau RBF (avec les paramètres par défaut) sur le conteneur défini précédemment. Interpréter les résultats obtenus.\n",
        "\n",
        "*Indication :* Vous pourrez utiliser l’implémentation des SVM de scikit-learn."
      ],
      "metadata": {}
    },
    {
      "cell_type": "code",
      "source": [],
      "outputs": [],
      "execution_count": null,
      "metadata": {}
    },
    {
      "attachments": {},
      "cell_type": "markdown",
      "source": [
        "### Q4 (3 pts)\n",
        "Réaliser une recherche des paramètres optimaux (C et $\\gamma$ (gamma)) pour le noyau RBF à l’aide du GridSearch."
      ],
      "metadata": {}
    },
    {
      "cell_type": "code",
      "source": [],
      "outputs": [],
      "execution_count": null,
      "metadata": {}
    },
    {
      "attachments": {},
      "cell_type": "markdown",
      "source": [
        "### Q5 (3pts)\n",
        "\n",
        "Analyser et conclure à partir des résultats obtenus."
      ],
      "metadata": {}
    },
    {
      "attachments": {},
      "cell_type": "markdown",
      "source": [
        "COMPLETE ME"
      ],
      "metadata": {}
    },
    {
      "attachments": {},
      "cell_type": "markdown",
      "source": [
        "## Problème - Le Titanic (27 pts)"
      ],
      "metadata": {}
    },
    {
      "cell_type": "code",
      "source": [
        "df_titanic = sns.load_dataset(\"titanic\")\n",
        "df_titanic.info()"
      ],
      "outputs": [],
      "execution_count": null,
      "metadata": {}
    },
    {
      "attachments": {},
      "cell_type": "markdown",
      "source": [
        "### Q1 - 2pts\n",
        "* Quelles sont les colonnes liées à des données numériques et les colonnes liées à des données catégorielles ? (2pts)\n",
        "\n",
        "*Indication:* vérifiez bien le contenu des colonnes avant de répondre."
      ],
      "metadata": {}
    },
    {
      "attachments": {},
      "cell_type": "markdown",
      "source": [
        "### Q2 - 7 pts"
      ],
      "metadata": {}
    },
    {
      "attachments": {},
      "cell_type": "markdown",
      "source": [
        "Extraire les valeurs suivantes et proposer une visualisation pour:\n",
        "* Le genre des passagers (1pt)\n",
        "* Le genre des passagers suivant la classe de voyage (1 pt)\n",
        "* En supposant qu'un passager est un enfant si il a moins de 16 ans, combien y a t il d'enfants et quelle est la moyenne d'age des passagers ? Interprétation ? (2pts +1pt)\n",
        "* Histogramme des ages suivant le genre (2 pts)"
      ],
      "metadata": {}
    },
    {
      "attachments": {},
      "cell_type": "markdown",
      "source": [
        "### Q3 (3pts)"
      ],
      "metadata": {}
    },
    {
      "attachments": {},
      "cell_type": "markdown",
      "source": [
        "Le Titanic possedait 7 ponts dévoués aux passagers, notés de A à G. A partir de la colonne \"Cabin\", présenter la distribution des passagers suivants leur pont. (3pts)\n",
        "\n",
        "*Indication:* toutes les données ne sont pas bonnes ! Il faudra faire attention !"
      ],
      "metadata": {}
    },
    {
      "cell_type": "code",
      "source": [],
      "outputs": [],
      "execution_count": null,
      "metadata": {}
    },
    {
      "attachments": {},
      "cell_type": "markdown",
      "source": [
        "### Q4 (3 pts)\n",
        "\n",
        "Les trois villes d'embarquement étaient Cherbourg, Queenstown et Southhampton.\n",
        "\n",
        "Montrer la répartion par classe suivant la ville de départ. Conclusion ?"
      ],
      "metadata": {}
    },
    {
      "attachments": {},
      "cell_type": "markdown",
      "source": [
        "### Q5 (12 pts)\n",
        "**ATTENTION**: cette question est volontairement ouverte. Vous êtes libres de la manière de résoudre le problème posé.\n",
        "\n",
        "On veut savoir quels sont les facteurs qui favorisent la probabilité de survivre au naufrage du Titanic.\n",
        "\n",
        "Vous pourrez mélanger parties de code et commentaires en Markdown pour rendre votre réponse interactive.\n",
        "\n",
        "On s'attend à trouver :\n",
        "* des visualisations pertinentes\n",
        "* des choix d'estimateurs pertinents\n",
        "* des interprétations des visualisations et résultats des estimateurs."
      ],
      "metadata": {}
    },
    {
      "attachments": {},
      "cell_type": "markdown",
      "source": [
        "### Problème - Conception de Features et classifications (20 pts)\n",
        "\n",
        "Cet exercice est une grande question ouverte. Vous êtes libres de proposez vos solutions, sous réserve de justification.\n",
        "\n",
        "Les tracés (ci-présent) devront être décrits et analysés.\n",
        "\n",
        "Le code ci-après télécharge un sous-ensemble d'un dataset sur lequel vous travaillerez et montre un exemple basique de visualisation des données.\n",
        "\n",
        "Le but est de créer un système capable de reconnaitre des hommes politiques."
      ],
      "metadata": {}
    },
    {
      "cell_type": "code",
      "source": [
        "# DTéléchargement (long et pas d'indication de progression.)\n",
        "lfw_people = datasets.fetch_lfw_people(min_faces_per_person=70, resize=None)\n",
        "\n",
        "# Permet d'obtenir la taille des images\n",
        "n_samples, h, w = lfw_people.images.shape\n",
        "\n",
        "# version aplatie\n",
        "X = lfw_people.data\n",
        "n_features = X.shape[1]\n",
        "\n",
        "# la variable à prédire est l'id de la personne\n",
        "y = lfw_people.target\n",
        "target_names = lfw_people.target_names\n",
        "n_classes = target_names.shape[0]\n",
        "\n",
        "print(\"Contenu du dataset:\")\n",
        "print(f\"n_samples: {n_samples}\")\n",
        "print(f\"n_features: {n_features}\" )\n",
        "print(f\"n_classes: {n_classes}\")\n",
        "\n",
        "shown_id = np.random.randint(n_samples)\n",
        "target = y[shown_id]\n",
        "\n",
        "plt.imshow(X[shown_id].reshape((h,w)), cmap=\"gray\")\n",
        "plt.title(target_names[target])"
      ],
      "outputs": [],
      "execution_count": null,
      "metadata": {}
    },
    {
      "attachments": {},
      "cell_type": "markdown",
      "source": [
        "COMPLETE ME"
      ],
      "metadata": {}
    },
    {
      "cell_type": "markdown",
      "source": [],
      "metadata": {}
    }
  ],
  "metadata": {
    "kernelspec": {
      "name": "python",
      "language": "python",
      "display_name": "Pyolite (preview)"
    },
    "language_info": {
      "codemirror_mode": {
        "name": "python",
        "version": 3
      },
      "file_extension": ".py",
      "mimetype": "text/x-python",
      "name": "python",
      "nbconvert_exporter": "python",
      "pygments_lexer": "ipython3",
      "version": "3.8"
    },
    "vscode": {
      "interpreter": {
        "hash": "caf1c2fcf97217de91eafa76b907d50f9ea378f5ffbee7f571142d119bb6a771"
      }
    },
    "kernel_info": {
      "name": "python"
    },
    "nteract": {
      "version": "nteract-front-end@1.0.0"
    }
  },
  "nbformat": 4,
  "nbformat_minor": 4
}