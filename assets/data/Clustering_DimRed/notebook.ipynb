{
 "cells": [
  {
   "attachments": {},
   "cell_type": "markdown",
   "metadata": {},
   "source": [
    "# Clustering"
   ]
  },
  {
   "cell_type": "code",
   "execution_count": null,
   "metadata": {},
   "outputs": [],
   "source": [
    "import numpy as np\n",
    "import matplotlib.pyplot as plt\n",
    "from sklearn.cluster import KMeans\n",
    "from sklearn.metrics import pairwise_distances_argmin\n",
    "from sklearn.datasets import load_sample_image, load_digits\n",
    "from sklearn.utils import shuffle\n",
    "from sklearn.decomposition import PCA\n",
    "from sklearn.model_selection import train_test_split\n",
    "from sklearn.preprocessing import StandardScaler\n",
    "%matplotlib inline"
   ]
  },
  {
   "attachments": {},
   "cell_type": "markdown",
   "metadata": {},
   "source": [
    "## Réduction de la profondeurs de bits d'une image\n",
    "\n",
    "Le but de cette application est de réduire le nombre de couleurs d'une image sans affecter sa qualité perçue.\n",
    "\n",
    "On suggère les étapes suivantes :\n",
    "* Convertir l'image `flower` vers un type plus adapté (`unsigned int8` vers ????)\n",
    "* Utiliser l'algorithme K-means pour obtenir des clusters de couleurs à partir d'un échantillon aléatoire limité (1000 échantillons fera l'affaire).\n",
    "* En déduire une méthode de compression de l'image. Comparer à une méthode de sélection aléatoire.\n",
    "* Comparer au résultat obtenus avec une méthode aléatoire et K-means sur toute l'image.\n",
    "* Créer une image des erreurs. Conclure.\n",
    "* Pour jouer, appliquer ce processus à une image de votre choix.\n",
    "\n",
    "On rappelle que le K-Means induit des centroides."
   ]
  },
  {
   "cell_type": "code",
   "execution_count": null,
   "metadata": {},
   "outputs": [],
   "source": [
    "n_colors = 64\n",
    "# Load flower image\n",
    "flower = load_sample_image(\"flower.jpg\")\n",
    "print(f\"Image Data Type : {flower.dtype}\")\n",
    "w, h, d = flower.shape\n",
    "print(f\"Image Shape : {flower.shape}\")\n",
    "\n",
    "image_array = np.reshape(flower, (w * h, d))\n",
    "colors = np.unique(image_array,axis=0)\n",
    "n_colors= colors.shape[0]\n",
    "\n",
    "# Display the original image, with the number of colors found inside\n",
    "plt.figure()\n",
    "plt.axis(\"off\")\n",
    "plt.title(f\"Original image ({n_colors} colors)\")\n",
    "plt.imshow(flower)\n",
    "plt.show()\n",
    "\n",
    "########### COMPLETEME K-Means\n",
    "image_array_kmeans = image_array\n",
    "colors = np.unique(image_array,axis=0)\n",
    "n_colors_kmeans= colors.shape[0]\n",
    "plt.figure()\n",
    "plt.axis(\"off\")\n",
    "plt.title(f\"Converted image ({n_colors_kmeans} colors) w/ K-Means \" )\n",
    "plt.imshow(flower)\n",
    "plt.show()\n",
    "########### COMPLETEME Random\n",
    "image_array_kmeans = image_array\n",
    "colors = np.unique(image_array,axis=0)\n",
    "n_colors_kmeans= colors.shape[0]\n",
    "plt.figure()\n",
    "plt.axis(\"off\")\n",
    "plt.title(f\"Converted image ({n_colors_kmeans} colors) w/ K-Means \" )\n",
    "plt.imshow(flower)\n",
    "plt.show()"
   ]
  },
  {
   "attachments": {},
   "cell_type": "markdown",
   "metadata": {},
   "source": [
    "## Interprétation géométrique de l'ACP"
   ]
  },
  {
   "cell_type": "code",
   "execution_count": null,
   "metadata": {},
   "outputs": [],
   "source": [
    "rng = np.random.RandomState(1337)\n",
    "X = np.dot(rng.rand(2, 2), rng.randn(2, 200)).T\n",
    "plt.scatter(X[:, 0], X[:, 1])\n",
    "plt.axis('equal')\n",
    "plt.grid()"
   ]
  },
  {
   "attachments": {},
   "cell_type": "markdown",
   "metadata": {},
   "source": [
    "* A partir des données ci-dessus, appliquer l'ACP disponible dans le module scikit-learn sur les données `X`. \n",
    "* Montrer que les axes (components) sont orthogonaux et forment une base orthonormée. (Il suffit de montrer qu'ils sont orthogonaux et de norme 1)\n",
    "*Indication :* Numpy possède une fonction pour calculer la norme.\n",
    "* Visualiser le résultat de l'ACP en considérant les axes comme direction et la variance expliquée (explained_variance) comme norme du vecteur.\n",
    "* Même chose sur les données `X` transformée par l'ACP, que l'on nommera `X_transform`\n",
    "* Interpréter la visualisation."
   ]
  },
  {
   "cell_type": "code",
   "execution_count": null,
   "metadata": {},
   "outputs": [],
   "source": [
    "pca = None"
   ]
  },
  {
   "cell_type": "code",
   "execution_count": null,
   "metadata": {},
   "outputs": [],
   "source": [
    "# COMPLETE ME - Vérifier que la base est orthonormée\n",
    "vectors = pca.components_\n",
    "# Insert calculation here"
   ]
  },
  {
   "cell_type": "code",
   "execution_count": null,
   "metadata": {},
   "outputs": [],
   "source": [
    "# COMPLETE ME - Visualiser les vecteurs\n",
    "def draw_vector(v0, v1, ax=None):\n",
    "    ax = ax or plt.gca()\n",
    "    arrowprops=dict(arrowstyle='->',\n",
    "                    linewidth=2,\n",
    "                    shrinkA=0, shrinkB=0)\n",
    "    ax.annotate('', v1, v0, arrowprops=arrowprops)\n",
    "\n",
    "# On pourra utiliser la fonction draw_vector\n",
    "plt.scatter(X[:, 0], X[:, 1], alpha=0.5)\n",
    "for length, vector in zip(pca.explained_variance_, pca.components_):\n",
    "    continue # COMPLETEME\n",
    "plt.axis('equal');"
   ]
  },
  {
   "cell_type": "code",
   "execution_count": null,
   "metadata": {},
   "outputs": [],
   "source": [
    "# COMPLETE ME - Visualiser les vecteurs transformés\n",
    "X_transform = None\n",
    "plt.scatter(X_transform[:, 0], X_transform[:, 1], alpha=0.2)\n",
    "draw_vector([0, 0], [0, 1], ax=plt)\n",
    "draw_vector([0, 0], [1, 0], ax=plt)\n",
    "plt.axis('equal')\n",
    "plt.grid()"
   ]
  },
  {
   "attachments": {},
   "cell_type": "markdown",
   "metadata": {},
   "source": [
    "Votre interprétation ICI (double cliquez moi pour écrire !)"
   ]
  },
  {
   "attachments": {},
   "cell_type": "markdown",
   "metadata": {},
   "source": [
    "## Filtrage par ACP"
   ]
  },
  {
   "attachments": {},
   "cell_type": "markdown",
   "metadata": {},
   "source": [
    "### Introduction - Visualisation\n",
    "\n",
    "On veut dans un premier temps faire une visualisation du dataset en deux dimensions."
   ]
  },
  {
   "cell_type": "code",
   "execution_count": null,
   "metadata": {},
   "outputs": [],
   "source": [
    "# COMPLETEME - Visualisation avec ACP\n",
    "\n",
    "digits = load_digits()\n",
    "print(f\"Taille du dataset : {digits.data.shape}\")\n",
    "projected = None\n",
    "plt.scatter(projected[:, 0], projected[:, 1],\n",
    "            c=digits.target, edgecolor='none', alpha=0.5,\n",
    "            cmap=plt.cm.get_cmap('spectral', 10))\n",
    "plt.xlabel('component 1')\n",
    "plt.ylabel('component 2')\n",
    "plt.colorbar();\n"
   ]
  },
  {
   "attachments": {},
   "cell_type": "markdown",
   "metadata": {},
   "source": [
    "### Réduction de l'espace de recherche avec ACP\n",
    "\n",
    "Le but de cet exercice est de réduire l'espace de recherche de la dimension 64 à la dimension 8.\n",
    "* Réduire la dimension de l'espace des données à l'aide de l'ACP\n",
    "* Visualiser une image et ces composantes après ACP. Conclusion ?\n",
    "\n",
    "*Indication :* une image peut être représentée comme $image(x)=moyenne + x_1⋅(base_1)+x_2⋅(base_2)+x_3⋅(base_3)\\cdots$"
   ]
  },
  {
   "cell_type": "code",
   "execution_count": null,
   "metadata": {},
   "outputs": [],
   "source": [
    "COMPLETEME"
   ]
  },
  {
   "attachments": {},
   "cell_type": "markdown",
   "metadata": {},
   "source": [
    "On a choisi de manière assez arbitraire 8 composantes. On considère qu'un bon seuil est 90% de la variance expliquée.\n",
    "* Montrer le graphe de la somme cumulée de la variance expliquée en fonction du nombre de composantes.\n",
    "* Trouver le nombre \"optimal\" de composantes tels que la variance expliquée soit juste au dessus de 90%."
   ]
  },
  {
   "cell_type": "code",
   "execution_count": null,
   "metadata": {},
   "outputs": [],
   "source": []
  },
  {
   "attachments": {},
   "cell_type": "markdown",
   "metadata": {},
   "source": [
    "### Filtrage avec ACP\n",
    "\n",
    "L'ACP peut également être utilisée comme approche de filtrage pour les données bruitées.\n",
    "\n",
    "L'idée est la suivante : toutes les composantes dont la variance est beaucoup plus grande que l'effet du bruit devraient être relativement peu affectées par ce dernier.\n",
    "\n",
    "Par conséquent, si vous reconstruisez les données en utilisant uniquement un sous-ensemble de composantes principales, vous devriez conserver le signal d'intérêt et rejeter le bruit."
   ]
  },
  {
   "cell_type": "code",
   "execution_count": null,
   "metadata": {},
   "outputs": [],
   "source": [
    "def plot_digits(data):\n",
    "    fig, axes = plt.subplots(4, 10, figsize=(10, 4),\n",
    "                             subplot_kw={'xticks':[], 'yticks':[]},\n",
    "                             gridspec_kw=dict(hspace=0.1, wspace=0.1))\n",
    "    for i, ax in enumerate(axes.flat):\n",
    "        ax.imshow(data[i].reshape(8, 8),\n",
    "                  cmap='binary', interpolation='nearest',\n",
    "                  clim=(0, 16))\n",
    "plot_digits(digits.data)\n",
    "\n",
    "\n",
    "np.random.seed(42)\n",
    "noisy = np.random.normal(digits.data, 4)\n",
    "plot_digits(noisy)\n",
    "\n",
    "denoised = COMPLETEME\n",
    "plot_digits(denoised)"
   ]
  },
  {
   "attachments": {},
   "cell_type": "markdown",
   "metadata": {},
   "source": [
    "## PCA et ISOMAP\n",
    "\n",
    "Le but de cet exercice est de comparer la géométrie des sous-espaces induits ainsi que leur capacité de regroupement.\n",
    "\n",
    "En d'autres termes :\n",
    "* Appliquer l'ACP sur un jeu de données d'entrainement\n",
    "* Appliquer ISOMAP sur le même jeu\n",
    "* Appliquer un algorithme de clustering sur les données d'entrainement\n",
    "* Visualiser les ensembles d'entrainement et de validation\n",
    "* Comparer la qualité du clustering avec une métrique adaptée."
   ]
  },
  {
   "cell_type": "code",
   "execution_count": null,
   "metadata": {},
   "outputs": [],
   "source": [
    "# Load Digits dataset\n",
    "X, y = load_digits(return_X_y=True)\n",
    "\n",
    "# Split into train/test\n",
    "X_train, X_test, y_train, y_test = train_test_split(\n",
    "    X, y, test_size=0.5\n",
    ")"
   ]
  },
  {
   "cell_type": "markdown",
   "metadata": {},
   "source": []
  },
  {
   "cell_type": "markdown",
   "metadata": {},
   "source": []
  },
  {
   "cell_type": "markdown",
   "metadata": {},
   "source": []
  }
 ],
 "metadata": {
  "kernelspec": {
   "display_name": "base",
   "language": "python",
   "name": "python3"
  },
  "language_info": {
   "codemirror_mode": {
    "name": "ipython",
    "version": 3
   },
   "file_extension": ".py",
   "mimetype": "text/x-python",
   "name": "python",
   "nbconvert_exporter": "python",
   "pygments_lexer": "ipython3",
   "version": "3.8.13"
  },
  "orig_nbformat": 4
 },
 "nbformat": 4,
 "nbformat_minor": 2
}
