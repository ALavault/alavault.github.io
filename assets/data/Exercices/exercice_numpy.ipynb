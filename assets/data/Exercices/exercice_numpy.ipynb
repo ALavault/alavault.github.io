{
 "cells": [
  {
   "attachments": {},
   "cell_type": "markdown",
   "metadata": {},
   "source": [
    "# Exercice: Introduction à Numpy\n",
    "\n",
    "Inspiré par les travaux d'Alexandre Gramfort (INRIA)"
   ]
  },
  {
   "attachments": {},
   "cell_type": "markdown",
   "metadata": {},
   "source": [
    "L'objectif principal de ce notebook est de se familiariser avec Python et NumPy en manipulant un jeu de données célèbre dans le domaine de l'apprentissage automatique.\n",
    "\n",
    "Les données sont intégrées dans la bibliothèque `scikit-learn`.\n",
    "\n",
    "Ce jeu de données est connu sous le nom de digits et contient des images de chiffres écrits à la main avec leurs étiquettes associées."
   ]
  },
  {
   "attachments": {},
   "cell_type": "markdown",
   "metadata": {},
   "source": [
    "# Manipulations et visualisation du jeu de données `digtits`."
   ]
  },
  {
   "cell_type": "markdown",
   "metadata": {},
   "source": [
    "## Imports et intialisation"
   ]
  },
  {
   "cell_type": "code",
   "execution_count": null,
   "metadata": {},
   "outputs": [],
   "source": [
    "%matplotlib inline                      \n",
    "\n",
    "import numpy as np                      # charge un package pour le numérique\n",
    "import matplotlib.pyplot as plt         # charge un package pour les graphiques"
   ]
  },
  {
   "attachments": {},
   "cell_type": "markdown",
   "metadata": {},
   "source": [
    "## Description\n",
    "\n",
    "Nous allons charger le jeu de données `digits` disponible dans `scikit-learn` (le nom de l'importation est `sklearn`). Ce jeu de données contient des images de chiffres écrits à la main."
   ]
  },
  {
   "cell_type": "code",
   "execution_count": null,
   "metadata": {},
   "outputs": [],
   "source": [
    "# Load the dataset from scikit-learn\n",
    "from sklearn.datasets import load_digits\n",
    "\n",
    "digits = load_digits()\n",
    "X, y = digits.data, digits.target"
   ]
  },
  {
   "cell_type": "code",
   "execution_count": null,
   "metadata": {},
   "outputs": [],
   "source": [
    "X"
   ]
  },
  {
   "cell_type": "code",
   "execution_count": null,
   "metadata": {},
   "outputs": [],
   "source": [
    "X.shape"
   ]
  },
  {
   "cell_type": "code",
   "execution_count": null,
   "metadata": {},
   "outputs": [],
   "source": [
    "X.ndim"
   ]
  },
  {
   "cell_type": "code",
   "execution_count": null,
   "metadata": {},
   "outputs": [],
   "source": [
    "y.shape"
   ]
  },
  {
   "cell_type": "code",
   "execution_count": null,
   "metadata": {},
   "outputs": [],
   "source": [
    "y.size"
   ]
  },
  {
   "cell_type": "code",
   "execution_count": null,
   "metadata": {},
   "outputs": [],
   "source": [
    "X.size, 1797*64"
   ]
  },
  {
   "cell_type": "code",
   "execution_count": null,
   "metadata": {},
   "outputs": [],
   "source": [
    "X[0, :].size"
   ]
  },
  {
   "cell_type": "code",
   "execution_count": null,
   "metadata": {},
   "outputs": [],
   "source": [
    "y"
   ]
  },
  {
   "cell_type": "code",
   "execution_count": null,
   "metadata": {},
   "outputs": [],
   "source": [
    "y.max(), y.min()"
   ]
  },
  {
   "cell_type": "code",
   "execution_count": null,
   "metadata": {},
   "outputs": [],
   "source": [
    "np.unique(y)"
   ]
  },
  {
   "cell_type": "code",
   "execution_count": null,
   "metadata": {},
   "outputs": [],
   "source": [
    "print(f\"Nombre de pixels (features):      {X.shape[1]}\")\n",
    "print(f\"Nombre d'images (samples):       {X.shape[0]}\")\n",
    "print(f\"Nombre de classes:                {len(np.unique(y))}\")"
   ]
  },
  {
   "cell_type": "code",
   "execution_count": null,
   "metadata": {},
   "outputs": [],
   "source": [
    "# Choix d'une image.\n",
    "idx_to_test = 15\n",
    "\n",
    "print(\"Une ligne du tableau (i.e., image):\")\n",
    "print(X[idx_to_test, :])\n",
    "print(\"Classe associée :\")\n",
    "print(y[idx_to_test])"
   ]
  },
  {
   "attachments": {},
   "cell_type": "markdown",
   "metadata": {},
   "source": [
    "Exercice:\n",
    "* Type de X ? y ?\n",
    "* Changez idx_to_test. Sans regarder y[idx_to_test], pouvez vous reconnaitre le chiffre ?"
   ]
  },
  {
   "attachments": {},
   "cell_type": "markdown",
   "metadata": {},
   "source": [
    "## Visualisation des données :\n",
    "\n",
    "Les images numérisées ont une taille de 8 x 8, soit un total de 64 pixels. Elles sont stockées dans un vecteur de lignes qui doit être remodelé pour être visualisé en tant qu'image. Vous pouvez utiliser la fonction `numpy.reshape` pour transformer le tableau 1D en un tableau 2D de 8 x 8 valeurs."
   ]
  },
  {
   "cell_type": "code",
   "execution_count": null,
   "metadata": {},
   "outputs": [],
   "source": [
    "# Nous utilisons `imshow` pour visualiser l'image\n",
    "plt.imshow(np.reshape(X[0, :], (8, 8)));"
   ]
  },
  {
   "cell_type": "code",
   "execution_count": null,
   "metadata": {},
   "outputs": [],
   "source": [
    "# Utilisez une carte de couleurs en niveaux de gris pour une meilleure visualisation\n",
    "plt.imshow(np.reshape(X[idx_to_test, :], (8, 8)),\n",
    "           cmap='gray', aspect='equal', interpolation='nearest')\n",
    "plt.colorbar()\n",
    "plt.title(f\"La classe liée à l'image {idx_to_test} est {y[idx_to_test]}\")"
   ]
  },
  {
   "attachments": {},
   "cell_type": "markdown",
   "metadata": {},
   "source": [
    "Exercice :\n",
    "* Montrer une image avec 1 ligne et 1 colonne sur 2 (*Indication*: qu'est ce qui en Python pourrait faire ça ?)\n",
    "* Montrer la distribution des pixels en utilisant `plt.hist`)."
   ]
  },
  {
   "cell_type": "code",
   "execution_count": null,
   "metadata": {},
   "outputs": [],
   "source": []
  },
  {
   "attachments": {},
   "cell_type": "markdown",
   "metadata": {},
   "source": [
    "\n",
    "## Statistiques Basiques\n",
    "\n",
    "Pour mieux comprendre la base de données on va s'intéresser à quelques statistiques. \n",
    "On commence par calculer les moyennes et variances par classes pour chacun des chiffres. La moyenne par classe se visualise comme une image qui est une représentantion moyenne pour chaque chiffre de zéro à neuf. Idem pour la variance, ce qui permet alors de voir les parties avec les plus grandes variations entre les membres d'une même classe.\n",
    "\n",
    "Pour mieux comprendre la base de données, nous allons vérifier quelques statistiques.\n",
    "Nous pouvons commencer par examiner la moyenne et la variance de chaque chiffre de la classe.\n",
    "Nous pouvons représenter la moyenne et la variance sous la forme d'une image de 8 x 8.\n",
    "\n",
    "* Quelle est la représentation des images de la moyenne et de la variance ?"
   ]
  },
  {
   "cell_type": "code",
   "execution_count": null,
   "metadata": {},
   "outputs": [],
   "source": [
    "classes_list = np.unique(y).astype(int)\n",
    "print(\"Liste des classes en présence: \", classes_list)"
   ]
  },
  {
   "attachments": {},
   "cell_type": "markdown",
   "metadata": {},
   "source": [
    "Exercice :\n",
    "* Calculer un représentant moyen du chiffre 0 (l'image qui en pixel i,j contient la valeur moyenne du pixel i,j parmis tous les 0)\n",
    "* Avec une boucle `for` calculer le représentant moyen pour chaque chiffre\n",
    "* Faire la même chose en remplaçant la moyenne par l'écart type\n",
    "* Afficher toutes les images sur une grille à l'aide de la fonction `plt.subplots`"
   ]
  },
  {
   "cell_type": "code",
   "execution_count": null,
   "metadata": {},
   "outputs": [],
   "source": []
  },
  {
   "attachments": {},
   "cell_type": "markdown",
   "metadata": {},
   "source": [
    "# Classification par centroïdes les plus proches\n",
    "\n",
    "Le but de cet exercice est d'implémenter votre propre classificateur basé sur une idée intuitive.\n",
    "Pour une nouvelle image, nous allons prédire la classe pour laquelle le chiffre moyen est le plus proche (dans l'espace des caractéristiques).\n",
    "\n",
    "Exercice:\n",
    "* diviser l'ensemble de données en deux parties. Les variables X_train, y_train, X_test et y_test représentent respectivement les données d'apprentissage et les étiquettes, ainsi que les données de test et les étiquettes.\n",
    "* Pour chaque classe, calculez l'image digitale moyenne sur l'ensemble d'apprentissage. Nous appellerons la variable résultante `centroids_train`.\n",
    "* Pour chaque échantillon de l'ensemble de test, calculez les centroïdes les plus proches. Calculez le pourcentage de bonnes prédictions pour évaluer les performances de votre classificateur."
   ]
  },
  {
   "cell_type": "code",
   "execution_count": null,
   "metadata": {},
   "outputs": [],
   "source": []
  }
 ],
 "metadata": {
  "kernelspec": {
   "display_name": "Python 3",
   "language": "python",
   "name": "python3"
  },
  "language_info": {
   "codemirror_mode": {
    "name": "ipython",
    "version": 3
   },
   "file_extension": ".py",
   "mimetype": "text/x-python",
   "name": "python",
   "nbconvert_exporter": "python",
   "pygments_lexer": "ipython3",
   "version": "3.8.13"
  },
  "widgets": {
   "state": {},
   "version": "1.1.2"
  }
 },
 "nbformat": 4,
 "nbformat_minor": 1
}
