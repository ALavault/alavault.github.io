{
 "cells": [
  {
   "attachments": {},
   "cell_type": "markdown",
   "metadata": {},
   "source": [
    "# Exploration de données avec Pandas (Exercices)"
   ]
  },
  {
   "attachments": {},
   "cell_type": "markdown",
   "metadata": {},
   "source": [
    "Ce notebook est inspiré d'une présentation faite par Alexandre Gramfort (INRIA)."
   ]
  },
  {
   "cell_type": "code",
   "execution_count": null,
   "metadata": {},
   "outputs": [],
   "source": [
    "%matplotlib inline\n",
    "import os\n",
    "import pandas as pd\n",
    "import numpy as np\n",
    "import matplotlib.pyplot as plt"
   ]
  },
  {
   "attachments": {},
   "cell_type": "markdown",
   "metadata": {},
   "source": [
    "Objectif: faire une joli visualisation des résultats d'un référendum d'une manière similaire à l'image ci-dessous.\n",
    "L'autre objectif est de découvrir Pandas en autonomie. Pandas est un module de traitement des données qui permet d'abstraire un grand nombre de formats à travers une abstraction à haut-niveau : le DataFrame.\n",
    "\n",
    "<img align=\"left\" width=50% src=\"./image/example_map.png\">\n",
    "\n",
    "\n"
   ]
  },
  {
   "attachments": {},
   "cell_type": "markdown",
   "metadata": {},
   "source": [
    "## Activités"
   ]
  },
  {
   "attachments": {},
   "cell_type": "markdown",
   "metadata": {},
   "source": [
    "* Ouvrir le fichier `data/referendum.csv` and présenter les 5 premières lignes pour identifier la structure des données. Le séparateur sera le point virgule.\n",
    "\n",
    "*Indication*: il existe une méthode de l'object DataFrame qui permet d'afficher les premiers éléments (i.e lignes)."
   ]
  },
  {
   "cell_type": "code",
   "execution_count": null,
   "metadata": {},
   "outputs": [],
   "source": [
    "df_referendum = pd.read_csv(\"data/referendum.csv\", sep=';')"
   ]
  },
  {
   "cell_type": "code",
   "execution_count": null,
   "metadata": {},
   "outputs": [],
   "source": [
    "df_referendum.head()"
   ]
  },
  {
   "attachments": {},
   "cell_type": "markdown",
   "metadata": {},
   "source": [
    "* Il n'y a pas d'informations sur les régions. On a cependant un deuxième dataset `data/regions.csv` qui contient cette information. Même question qu'au dessus."
   ]
  },
  {
   "cell_type": "code",
   "execution_count": null,
   "metadata": {},
   "outputs": [],
   "source": [
    "df_regions = pd.read_csv(os.path.join('data', 'regions.csv')) # plus robuste qu'écrire un chemin en toute lettre\n",
    "df_regions.head()"
   ]
  },
  {
   "attachments": {},
   "cell_type": "markdown",
   "metadata": {},
   "source": [
    "* Même question pour`data/departments.csv`."
   ]
  },
  {
   "cell_type": "code",
   "execution_count": null,
   "metadata": {},
   "outputs": [],
   "source": [
    "df_departments = pd.read_csv(os.path.join('data', 'departments.csv'))\n",
    "df_departments.head()\n"
   ]
  },
  {
   "attachments": {},
   "cell_type": "markdown",
   "metadata": {},
   "source": [
    "* Trouvez la colonne dans le dataframe des départements qui est liée à la colonne `code` du dataframe des régions. \n",
    "* Fusionnez les deux dataframes en utilisant ces informations. Montrez les 5 premières lignes du dataframe résultant.\n",
    "\n",
    "*Indication*: il existe une **méthode** pour la fusion de DataFrames."
   ]
  },
  {
   "cell_type": "code",
   "execution_count": null,
   "metadata": {},
   "outputs": [],
   "source": [
    "# df_referendum a des départments écrits sans le 0. Pour éviter des problèmes d'alignement des données, on nettoie.\n",
    "df_referendum[\"Department code\"] = df_referendum[\"Department code\"].apply(\n",
    "    lambda x: \"0\" + x if len(x) == 1 else x\n",
    ")"
   ]
  },
  {
   "cell_type": "code",
   "execution_count": null,
   "metadata": {},
   "outputs": [],
   "source": [
    "df_reg_dep = df_departments.merge(df_regions, how='inner', left_on='region_code', right_on='code')\n",
    "df_reg_dep.head()"
   ]
  },
  {
   "attachments": {},
   "cell_type": "markdown",
   "metadata": {},
   "source": [
    "* Dans le cadre des données précédentes, une colonne est liée au code du département qui peut être fusionné avec nos données de référendum comme nous l'avons fait précédemment. Puisque nous avons déjà obtenu des informations sur les régions, nous pouvons obtenir le DataFrame des régions avec une nouvelle fusion. \n",
    "* Montrez les 5 premières lignes du dataframe fusionné."
   ]
  },
  {
   "cell_type": "code",
   "execution_count": null,
   "metadata": {},
   "outputs": [],
   "source": [
    "df = df_referendum.merge(df_reg_dep, how='inner', left_on='Department code', right_on='code_x')\n",
    "df.head()"
   ]
  },
  {
   "attachments": {},
   "cell_type": "markdown",
   "metadata": {},
   "source": [
    "* Regroupez et additionnez les votes par région et montrez le cadre de données résultant.\n",
    "\n",
    "*Indication*: c'est une commande bien connue en base de données qui groupe les éléments par...."
   ]
  },
  {
   "cell_type": "code",
   "execution_count": null,
   "metadata": {},
   "outputs": [],
   "source": [
    "regions_vote = df.groupby(['code_y', 'name_y']).sum()\n",
    "regions_vote"
   ]
  },
  {
   "attachments": {},
   "cell_type": "markdown",
   "metadata": {},
   "source": [
    "* En prenant l'exemple précédent, tracez le vote pour le \"choix A\" et le \"choix B\". Utilisez le fichier `regions.geojson` qui contient des informations géographiques concernant la région. Vous pouvez utiliser `geopandas` qui chargera ces informations dans un dataframe que vous pourrez fusionner avec n'importe quel autre dataframe.\n",
    "* Une fois les données fusionnées, vous pouvez tracer le nombre absolu et le ratio de votes par région."
   ]
  },
  {
   "cell_type": "code",
   "execution_count": 32,
   "metadata": {},
   "outputs": [
    {
     "name": "stdout",
     "output_type": "stream",
     "text": [
      "Requirement already satisfied: geopandas in /home/ubuntu/anaconda3/lib/python3.8/site-packages (0.12.2)\n",
      "Requirement already satisfied: shapely>=1.7 in /home/ubuntu/anaconda3/lib/python3.8/site-packages (from geopandas) (2.0.1)\n",
      "Requirement already satisfied: pandas>=1.0.0 in /home/ubuntu/anaconda3/lib/python3.8/site-packages (from geopandas) (1.4.4)\n",
      "Requirement already satisfied: packaging in /home/ubuntu/anaconda3/lib/python3.8/site-packages (from geopandas) (21.3)\n",
      "Requirement already satisfied: pyproj>=2.6.1.post1 in /home/ubuntu/anaconda3/lib/python3.8/site-packages (from geopandas) (3.4.1)\n",
      "Requirement already satisfied: fiona>=1.8 in /home/ubuntu/anaconda3/lib/python3.8/site-packages (from geopandas) (1.9.1)\n",
      "Requirement already satisfied: certifi in /home/ubuntu/anaconda3/lib/python3.8/site-packages (from fiona>=1.8->geopandas) (2022.9.24)\n",
      "Requirement already satisfied: attrs>=19.2.0 in /home/ubuntu/anaconda3/lib/python3.8/site-packages (from fiona>=1.8->geopandas) (21.4.0)\n",
      "Requirement already satisfied: setuptools in /home/ubuntu/anaconda3/lib/python3.8/site-packages (from fiona>=1.8->geopandas) (63.4.1)\n",
      "Requirement already satisfied: cligj>=0.5 in /home/ubuntu/anaconda3/lib/python3.8/site-packages (from fiona>=1.8->geopandas) (0.7.2)\n",
      "Requirement already satisfied: click-plugins>=1.0 in /home/ubuntu/anaconda3/lib/python3.8/site-packages (from fiona>=1.8->geopandas) (1.1.1)\n",
      "Requirement already satisfied: click~=8.0 in /home/ubuntu/anaconda3/lib/python3.8/site-packages (from fiona>=1.8->geopandas) (8.0.4)\n",
      "Requirement already satisfied: munch>=2.3.2 in /home/ubuntu/anaconda3/lib/python3.8/site-packages (from fiona>=1.8->geopandas) (2.5.0)\n",
      "Requirement already satisfied: python-dateutil>=2.8.1 in /home/ubuntu/.local/lib/python3.8/site-packages (from pandas>=1.0.0->geopandas) (2.8.1)\n",
      "Requirement already satisfied: pytz>=2020.1 in /home/ubuntu/anaconda3/lib/python3.8/site-packages (from pandas>=1.0.0->geopandas) (2022.1)\n",
      "Requirement already satisfied: numpy>=1.18.5 in /home/ubuntu/anaconda3/lib/python3.8/site-packages (from pandas>=1.0.0->geopandas) (1.21.5)\n",
      "Requirement already satisfied: pyparsing!=3.0.5,>=2.0.2 in /home/ubuntu/anaconda3/lib/python3.8/site-packages (from packaging->geopandas) (3.0.9)\n",
      "Requirement already satisfied: six in /home/ubuntu/anaconda3/lib/python3.8/site-packages (from munch>=2.3.2->fiona>=1.8->geopandas) (1.16.0)\n"
     ]
    }
   ],
   "source": [
    "!pip install -U geopandas # To install geopandas"
   ]
  },
  {
   "cell_type": "code",
   "execution_count": null,
   "metadata": {},
   "outputs": [],
   "source": [
    "\n",
    "import geopandas as gpd # Il faudra installer ça."
   ]
  },
  {
   "cell_type": "code",
   "execution_count": null,
   "metadata": {},
   "outputs": [],
   "source": [
    "\n",
    "gdf_regions = gpd.read_file(os.path.join('data', 'regions.geojson'))\n",
    "gdf_regions = gdf_regions.merge(regions_vote, how='inner', left_on='code', right_on='code_y')\n",
    "\n",
    "gdf_normalized = gdf_regions.copy()\n",
    "gdf_normalized['Choice A'] /= gdf_regions[['Choice A', 'Choice B']].sum(axis=1)\n",
    "gdf_normalized['Choice B'] /= gdf_regions[['Choice A', 'Choice B']].sum(axis=1)"
   ]
  },
  {
   "cell_type": "code",
   "execution_count": null,
   "metadata": {},
   "outputs": [],
   "source": [
    "gdf_normalized.plot(column='Choice A', legend=True, cmap='BuPu')\n",
    "gdf_normalized.plot(column='Choice B', legend=True, cmap='OrRd')"
   ]
  }
 ],
 "metadata": {
  "kernelspec": {
   "display_name": "Python 3",
   "language": "python",
   "name": "python3"
  },
  "language_info": {
   "codemirror_mode": {
    "name": "ipython",
    "version": 3
   },
   "file_extension": ".py",
   "mimetype": "text/x-python",
   "name": "python",
   "nbconvert_exporter": "python",
   "pygments_lexer": "ipython3",
   "version": "3.8.13"
  }
 },
 "nbformat": 4,
 "nbformat_minor": 4
}
