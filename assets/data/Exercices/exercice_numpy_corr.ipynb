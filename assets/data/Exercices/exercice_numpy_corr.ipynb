{
 "cells": [
  {
   "attachments": {},
   "cell_type": "markdown",
   "metadata": {},
   "source": [
    "# Exercice: Introduction à Numpy\n",
    "\n",
    "Inspiré par les travaux d'Alexandre Gramfort (INRIA)"
   ]
  },
  {
   "attachments": {},
   "cell_type": "markdown",
   "metadata": {},
   "source": [
    "L'objectif principal de ce notebook est de se familiariser avec Python et NumPy en manipulant un jeu de données célèbre dans le domaine de l'apprentissage automatique.\n",
    "\n",
    "Les données sont intégrées dans la bibliothèque `scikit-learn`.\n",
    "\n",
    "Ce jeu de données est connu sous le nom de digits et contient des images de chiffres écrits à la main avec leurs étiquettes associées."
   ]
  },
  {
   "attachments": {},
   "cell_type": "markdown",
   "metadata": {},
   "source": [
    "# Manipulations et visualisation du jeu de données `digtits`."
   ]
  },
  {
   "cell_type": "markdown",
   "metadata": {},
   "source": [
    "## Imports et intialisation"
   ]
  },
  {
   "cell_type": "code",
   "execution_count": 21,
   "metadata": {},
   "outputs": [],
   "source": [
    "%matplotlib inline                      \n",
    "\n",
    "import numpy as np                      # charge un package pour le numérique\n",
    "import matplotlib.pyplot as plt         # charge un package pour les graphiques"
   ]
  },
  {
   "attachments": {},
   "cell_type": "markdown",
   "metadata": {},
   "source": [
    "## Description\n",
    "\n",
    "Nous allons charger le jeu de données `digits` disponible dans `scikit-learn` (le nom de l'importation est `sklearn`). Ce jeu de données contient des images de chiffres écrits à la main."
   ]
  },
  {
   "cell_type": "code",
   "execution_count": 22,
   "metadata": {},
   "outputs": [],
   "source": [
    "# Load the dataset from scikit-learn\n",
    "from sklearn.datasets import load_digits\n",
    "\n",
    "digits = load_digits()\n",
    "X, y = digits.data, digits.target"
   ]
  },
  {
   "cell_type": "code",
   "execution_count": 23,
   "metadata": {},
   "outputs": [
    {
     "data": {
      "text/plain": [
       "array([[ 0.,  0.,  5., ...,  0.,  0.,  0.],\n",
       "       [ 0.,  0.,  0., ..., 10.,  0.,  0.],\n",
       "       [ 0.,  0.,  0., ..., 16.,  9.,  0.],\n",
       "       ...,\n",
       "       [ 0.,  0.,  1., ...,  6.,  0.,  0.],\n",
       "       [ 0.,  0.,  2., ..., 12.,  0.,  0.],\n",
       "       [ 0.,  0., 10., ..., 12.,  1.,  0.]])"
      ]
     },
     "execution_count": 23,
     "metadata": {},
     "output_type": "execute_result"
    }
   ],
   "source": [
    "X"
   ]
  },
  {
   "cell_type": "code",
   "execution_count": 24,
   "metadata": {},
   "outputs": [
    {
     "data": {
      "text/plain": [
       "(1797, 64)"
      ]
     },
     "execution_count": 24,
     "metadata": {},
     "output_type": "execute_result"
    }
   ],
   "source": [
    "X.shape"
   ]
  },
  {
   "cell_type": "code",
   "execution_count": 25,
   "metadata": {},
   "outputs": [
    {
     "data": {
      "text/plain": [
       "2"
      ]
     },
     "execution_count": 25,
     "metadata": {},
     "output_type": "execute_result"
    }
   ],
   "source": [
    "X.ndim"
   ]
  },
  {
   "cell_type": "code",
   "execution_count": 26,
   "metadata": {},
   "outputs": [
    {
     "data": {
      "text/plain": [
       "(1797,)"
      ]
     },
     "execution_count": 26,
     "metadata": {},
     "output_type": "execute_result"
    }
   ],
   "source": [
    "y.shape"
   ]
  },
  {
   "cell_type": "code",
   "execution_count": 27,
   "metadata": {},
   "outputs": [
    {
     "data": {
      "text/plain": [
       "1797"
      ]
     },
     "execution_count": 27,
     "metadata": {},
     "output_type": "execute_result"
    }
   ],
   "source": [
    "y.size"
   ]
  },
  {
   "cell_type": "code",
   "execution_count": 28,
   "metadata": {},
   "outputs": [
    {
     "data": {
      "text/plain": [
       "(115008, 115008)"
      ]
     },
     "execution_count": 28,
     "metadata": {},
     "output_type": "execute_result"
    }
   ],
   "source": [
    "X.size, 1797*64"
   ]
  },
  {
   "cell_type": "code",
   "execution_count": 29,
   "metadata": {},
   "outputs": [
    {
     "data": {
      "text/plain": [
       "64"
      ]
     },
     "execution_count": 29,
     "metadata": {},
     "output_type": "execute_result"
    }
   ],
   "source": [
    "X[0, :].size"
   ]
  },
  {
   "cell_type": "code",
   "execution_count": 30,
   "metadata": {},
   "outputs": [
    {
     "data": {
      "text/plain": [
       "array([0, 1, 2, ..., 8, 9, 8])"
      ]
     },
     "execution_count": 30,
     "metadata": {},
     "output_type": "execute_result"
    }
   ],
   "source": [
    "y"
   ]
  },
  {
   "cell_type": "code",
   "execution_count": 31,
   "metadata": {},
   "outputs": [
    {
     "data": {
      "text/plain": [
       "(9, 0)"
      ]
     },
     "execution_count": 31,
     "metadata": {},
     "output_type": "execute_result"
    }
   ],
   "source": [
    "y.max(), y.min()"
   ]
  },
  {
   "cell_type": "code",
   "execution_count": 32,
   "metadata": {},
   "outputs": [
    {
     "data": {
      "text/plain": [
       "array([0, 1, 2, 3, 4, 5, 6, 7, 8, 9])"
      ]
     },
     "execution_count": 32,
     "metadata": {},
     "output_type": "execute_result"
    }
   ],
   "source": [
    "np.unique(y)"
   ]
  },
  {
   "cell_type": "code",
   "execution_count": 33,
   "metadata": {},
   "outputs": [
    {
     "name": "stdout",
     "output_type": "stream",
     "text": [
      "Nombre de pixels (features):      64\n",
      "Nombre d'images (samples):       1797\n",
      "Nombre de classes:                10\n"
     ]
    }
   ],
   "source": [
    "print(f\"Nombre de pixels (features):      {X.shape[1]}\")\n",
    "print(f\"Nombre d'images (samples):       {X.shape[0]}\")\n",
    "print(f\"Nombre de classes:                {len(np.unique(y))}\")"
   ]
  },
  {
   "cell_type": "code",
   "execution_count": 34,
   "metadata": {},
   "outputs": [
    {
     "name": "stdout",
     "output_type": "stream",
     "text": [
      "Une ligne du tableau (i.e., image):\n",
      "[ 0.  5. 12. 13. 16. 16.  2.  0.  0. 11. 16. 15.  8.  4.  0.  0.  0.  8.\n",
      " 14. 11.  1.  0.  0.  0.  0.  8. 16. 16. 14.  0.  0.  0.  0.  1.  6.  6.\n",
      " 16.  0.  0.  0.  0.  0.  0.  5. 16.  3.  0.  0.  0.  1.  5. 15. 13.  0.\n",
      "  0.  0.  0.  4. 15. 16.  2.  0.  0.  0.]\n",
      "Classe associée :\n",
      "5\n"
     ]
    }
   ],
   "source": [
    "# Choix d'une image.\n",
    "idx_to_test = 15\n",
    "\n",
    "print(\"Une ligne du tableau (i.e., image):\")\n",
    "print(X[idx_to_test, :])\n",
    "print(\"Classe associée :\")\n",
    "print(y[idx_to_test])"
   ]
  },
  {
   "attachments": {},
   "cell_type": "markdown",
   "metadata": {},
   "source": [
    "Exercice:\n",
    "* Type de X ? y ?\n",
    "* Changez idx_to_test. Sans regarder y[idx_to_test], pouvez vous reconnaitre le chiffre ?"
   ]
  },
  {
   "cell_type": "code",
   "execution_count": 35,
   "metadata": {},
   "outputs": [
    {
     "data": {
      "text/plain": [
       "(dtype('float64'), dtype('int64'))"
      ]
     },
     "execution_count": 35,
     "metadata": {},
     "output_type": "execute_result"
    }
   ],
   "source": [
    "X.dtype, y.dtype"
   ]
  },
  {
   "cell_type": "code",
   "execution_count": 36,
   "metadata": {},
   "outputs": [
    {
     "data": {
      "text/plain": [
       "array([ 0.,  5., 12., 13., 16., 16.,  2.,  0.,  0., 11., 16., 15.,  8.,\n",
       "        4.,  0.,  0.,  0.,  8., 14., 11.,  1.,  0.,  0.,  0.,  0.,  8.,\n",
       "       16., 16., 14.,  0.,  0.,  0.,  0.,  1.,  6.,  6., 16.,  0.,  0.,\n",
       "        0.,  0.,  0.,  0.,  5., 16.,  3.,  0.,  0.,  0.,  1.,  5., 15.,\n",
       "       13.,  0.,  0.,  0.,  0.,  4., 15., 16.,  2.,  0.,  0.,  0.])"
      ]
     },
     "execution_count": 36,
     "metadata": {},
     "output_type": "execute_result"
    }
   ],
   "source": [
    "X[idx_to_test]"
   ]
  },
  {
   "attachments": {},
   "cell_type": "markdown",
   "metadata": {},
   "source": [
    "## Visualisation des données :\n",
    "\n",
    "Les images numérisées ont une taille de 8 x 8, soit un total de 64 pixels. Elles sont stockées dans un vecteur de lignes qui doit être remodelé pour être visualisé en tant qu'image. Vous pouvez utiliser la fonction `numpy.reshape` pour transformer le tableau 1D en un tableau 2D de 8 x 8 valeurs."
   ]
  },
  {
   "cell_type": "code",
   "execution_count": 37,
   "metadata": {},
   "outputs": [
    {
     "data": {
      "image/png": "[encoded data removed]",
      "text/plain": [
       "<Figure size 640x480 with 1 Axes>"
      ]
     },
     "metadata": {},
     "output_type": "display_data"
    }
   ],
   "source": [
    "# Nous utilisons `imshow` pour visualiser l'image\n",
    "plt.imshow(np.reshape(X[0, :], (8, 8)));"
   ]
  },
  {
   "cell_type": "code",
   "execution_count": 38,
   "metadata": {},
   "outputs": [
    {
     "data": {
      "text/plain": [
       "Text(0.5, 1.0, \"La classe liée à l'image 15 est 5\")"
      ]
     },
     "execution_count": 38,
     "metadata": {},
     "output_type": "execute_result"
    },
    {
     "data": {
      "image/png": "[encoded data removed]",
      "text/plain": [
       "<Figure size 640x480 with 2 Axes>"
      ]
     },
     "metadata": {},
     "output_type": "display_data"
    }
   ],
   "source": [
    "# Utilisez une carte de couleurs en niveaux de gris pour une meilleure visualisation\n",
    "plt.imshow(np.reshape(X[idx_to_test, :], (8, 8)),\n",
    "           cmap='gray', aspect='equal', interpolation='nearest')\n",
    "plt.colorbar()\n",
    "plt.title(f\"La classe liée à l'image {idx_to_test} est {y[idx_to_test]}\")"
   ]
  },
  {
   "attachments": {},
   "cell_type": "markdown",
   "metadata": {},
   "source": [
    "Exercice :\n",
    "* Montrer une image avec 1 ligne et 1 colonne sur 2 (*Indication*: qu'est ce qui en Python pourrait faire ça ?)\n",
    "* Montrer la distribution des pixels en utilisant `plt.hist`)."
   ]
  },
  {
   "cell_type": "code",
   "execution_count": 40,
   "metadata": {},
   "outputs": [],
   "source": [
    "img = X[0].reshape((8, 8))"
   ]
  },
  {
   "cell_type": "code",
   "execution_count": 41,
   "metadata": {},
   "outputs": [
    {
     "data": {
      "text/plain": [
       "<matplotlib.image.AxesImage at 0x7f72d6658550>"
      ]
     },
     "execution_count": 41,
     "metadata": {},
     "output_type": "execute_result"
    },
    {
     "data": {
      "image/png": "[encoded data removed]",
      "text/plain": [
       "<Figure size 640x480 with 1 Axes>"
      ]
     },
     "metadata": {},
     "output_type": "display_data"
    }
   ],
   "source": [
    "plt.imshow(img[::2, ::2])"
   ]
  },
  {
   "cell_type": "code",
   "execution_count": 44,
   "metadata": {},
   "outputs": [
    {
     "data": {
      "text/plain": [
       "(array([31.,  2.,  3.,  4.,  2.,  5.,  5.,  2.,  6.,  4.]),\n",
       " array([ 0. ,  1.5,  3. ,  4.5,  6. ,  7.5,  9. , 10.5, 12. , 13.5, 15. ]),\n",
       " <BarContainer object of 10 artists>)"
      ]
     },
     "execution_count": 44,
     "metadata": {},
     "output_type": "execute_result"
    },
    {
     "data": {
      "image/png": "[encoded data removed]",
      "text/plain": [
       "<Figure size 640x480 with 1 Axes>"
      ]
     },
     "metadata": {},
     "output_type": "display_data"
    }
   ],
   "source": [
    "plt.hist(img.ravel())"
   ]
  },
  {
   "attachments": {},
   "cell_type": "markdown",
   "metadata": {},
   "source": [
    "\n",
    "## Statistiques Basiques\n",
    "\n",
    "Pour mieux comprendre la base de données on va s'intéresser à quelques statistiques. \n",
    "On commence par calculer les moyennes et variances par classes pour chacun des chiffres. La moyenne par classe se visualise comme une image qui est une représentantion moyenne pour chaque chiffre de zéro à neuf. Idem pour la variance, ce qui permet alors de voir les parties avec les plus grandes variations entre les membres d'une même classe.\n",
    "\n",
    "Pour mieux comprendre la base de données, nous allons vérifier quelques statistiques.\n",
    "Nous pouvons commencer par examiner la moyenne et la variance de chaque chiffre de la classe.\n",
    "Nous pouvons représenter la moyenne et la variance sous la forme d'une image de 8 x 8.\n",
    "\n",
    "* Quelle est la représentation des images de la moyenne et de la variance ?"
   ]
  },
  {
   "cell_type": "code",
   "execution_count": 39,
   "metadata": {},
   "outputs": [
    {
     "name": "stdout",
     "output_type": "stream",
     "text": [
      "Liste des classes en présence:  [0 1 2 3 4 5 6 7 8 9]\n"
     ]
    }
   ],
   "source": [
    "classes_list = np.unique(y).astype(int)\n",
    "print(\"Liste des classes en présence: \", classes_list)"
   ]
  },
  {
   "attachments": {},
   "cell_type": "markdown",
   "metadata": {},
   "source": [
    "Exercice :\n",
    "* Calculer un représentant moyen du chiffre 0 (l'image qui en pixel i,j contient la valeur moyenne du pixel i,j parmis tous les 0)\n",
    "* Avec une boucle `for` calculer le représentant moyen pour chaque chiffre\n",
    "* Faire la même chose en remplaçant la moyenne par l'écart type\n",
    "* Afficher toutes les images sur une grille à l'aide de la fonction `plt.subplots`"
   ]
  },
  {
   "cell_type": "code",
   "execution_count": 46,
   "metadata": {},
   "outputs": [
    {
     "data": {
      "image/png": "[encoded data removed]",
      "text/plain": [
       "<Figure size 640x480 with 10 Axes>"
      ]
     },
     "metadata": {},
     "output_type": "display_data"
    }
   ],
   "source": [
    "bfig, axs = plt.subplots(ncols=5, nrows=2)\n",
    "for classe, ax in zip(classes_list, axs.ravel()):\n",
    "    mask_img = y == classe\n",
    "    ax.imshow(\n",
    "        X[mask_img].mean(axis=0).reshape((8, 8)),\n",
    "        cmap=\"gray\"\n",
    "    )\n",
    "    ax.axis(\"off\")\n",
    "    ax.set_title(f\"Label: {classe}\")"
   ]
  },
  {
   "cell_type": "code",
   "execution_count": 47,
   "metadata": {},
   "outputs": [
    {
     "data": {
      "image/png": "[encoded data removed]",
      "text/plain": [
       "<Figure size 640x480 with 10 Axes>"
      ]
     },
     "metadata": {},
     "output_type": "display_data"
    }
   ],
   "source": [
    "fig, axs = plt.subplots(ncols=5, nrows=2)\n",
    "for classe, ax in zip(classes_list, axs.ravel()):\n",
    "    mask_img = y == classe\n",
    "    ax.imshow(\n",
    "        X[mask_img].std(axis=0).reshape((8, 8)),\n",
    "        cmap=\"gray\"\n",
    "    )\n",
    "    ax.axis(\"off\")\n",
    "    ax.set_title(f\"Label: {classe}\")"
   ]
  },
  {
   "attachments": {},
   "cell_type": "markdown",
   "metadata": {},
   "source": [
    "# Classification par centroïdes les plus proches\n",
    "\n",
    "Le but de cet exercice est d'implémenter votre propre classificateur basé sur une idée intuitive.\n",
    "Pour une nouvelle image, nous allons prédire la classe pour laquelle le chiffre moyen est le plus proche (dans l'espace des caractéristiques).\n",
    "\n",
    "Exercice:\n",
    "* diviser l'ensemble de données en deux parties. Les variables X_train, y_train, X_test et y_test représentent respectivement les données d'apprentissage et les étiquettes, ainsi que les données de test et les étiquettes.\n",
    "* Pour chaque classe, calculez l'image digitale moyenne sur l'ensemble d'apprentissage. Nous appellerons la variable résultante `centroids_train`.\n",
    "* Pour chaque échantillon de l'ensemble de test, calculez les centroïdes les plus proches. Calculez le pourcentage de bonnes prédictions pour évaluer les performances de votre classificateur."
   ]
  },
  {
   "cell_type": "code",
   "execution_count": 48,
   "metadata": {},
   "outputs": [],
   "source": [
    "mask_train = np.ones(y.shape, dtype=bool)\n",
    "mask_train[len(y) // 2:] = False # 50/50 split\n",
    "mask_test = ~mask_train # inverse le masque\n",
    "##\n",
    "X_train, X_test = X[mask_train], X[mask_test]\n",
    "y_train, y_test = y[mask_train], y[mask_test]"
   ]
  },
  {
   "cell_type": "code",
   "execution_count": 49,
   "metadata": {},
   "outputs": [],
   "source": [
    "centroids_train = []\n",
    "for classe in classes_list:\n",
    "    mask_img = y_train == classe\n",
    "    centroids_train.append(X_train[mask_img].mean(axis=0))\n",
    "centroids_train = np.array(centroids_train)"
   ]
  },
  {
   "cell_type": "code",
   "execution_count": 51,
   "metadata": {},
   "outputs": [
    {
     "data": {
      "text/plain": [
       "(10, 64)"
      ]
     },
     "execution_count": 51,
     "metadata": {},
     "output_type": "execute_result"
    },
    {
     "data": {
      "image/png": "[encoded data removed]",
      "text/plain": [
       "<Figure size 640x480 with 10 Axes>"
      ]
     },
     "metadata": {},
     "output_type": "display_data"
    }
   ],
   "source": [
    "fig, axs = plt.subplots(ncols=5, nrows=2)\n",
    "for img, ax in zip(centroids_train, axs.ravel()):\n",
    "    ax.imshow(\n",
    "        img.reshape((8, 8)), cmap=\"gray\"\n",
    "    )\n",
    "    ax.axis(\"off\")\n",
    "centroids_train.shape"
   ]
  },
  {
   "cell_type": "code",
   "execution_count": 64,
   "metadata": {},
   "outputs": [],
   "source": [
    "from scipy.spatial.distance import cdist\n",
    "\n",
    "y_pred = cdist(X_test, centroids_train).argmin(axis=1)"
   ]
  },
  {
   "cell_type": "code",
   "execution_count": 65,
   "metadata": {},
   "outputs": [],
   "source": [
    "img_dst = []\n",
    "for img_test in X_test:\n",
    "    dist = []\n",
    "    for centroid in centroids_train:\n",
    "        dist.append(np.sqrt(np.sum((img_test - centroid)**2)))\n",
    "    img_dst.append(dist)\n",
    "img_dst = np.array(img_dst)"
   ]
  },
  {
   "cell_type": "code",
   "execution_count": 57,
   "metadata": {},
   "outputs": [
    {
     "data": {
      "text/plain": [
       "array([9, 8, 4, 9, 0, 8, 9, 1, 2, 2, 3, 4, 5, 6, 7, 8, 9, 0, 2, 2, 3, 4,\n",
       "       9, 6, 7, 8, 9, 0, 2, 2, 3, 4, 9, 6, 7, 8, 9, 0, 9, 9, 9, 6, 9, 0,\n",
       "       9, 8, 9, 8, 4, 3, 7, 7, 3, 9, 2, 2, 7, 8, 2, 0, 1, 2, 6, 3, 3, 7,\n",
       "       3, 3, 4, 6, 6, 6, 4, 9, 1, 5, 0, 9, 9, 2, 8, 2, 0, 0, 1, 7, 6, 3,\n",
       "       2, 2, 4, 6, 3, 2, 3, 9, 1, 7, 6, 8, 4, 3, 2, 4, 0, 5, 3, 6, 9, 6,\n",
       "       2, 7, 9, 4, 4, 7, 2, 8, 2, 2, 9, 7, 9, 5, 4, 4, 9, 0, 8, 9, 8, 0,\n",
       "       1, 2, 3, 4, 5, 6, 7, 8, 3, 0, 1, 2, 3, 4, 5, 6, 7, 8, 9, 0, 1, 2,\n",
       "       3, 4, 5, 6, 7, 8, 9, 0, 9, 5, 5, 6, 5, 0, 9, 8, 9, 8, 4, 1, 7, 7,\n",
       "       3, 5, 1, 0, 0, 7, 2, 2, 0, 1, 2, 6, 3, 3, 7, 3, 3, 4, 6, 6, 6, 7,\n",
       "       9, 1, 5, 0, 5, 5, 2, 8, 3, 0, 0, 1, 7, 6, 3, 2, 1, 7, 4, 6, 3, 1,\n",
       "       7, 9, 1, 7, 6, 8, 4, 3, 1, 4, 0, 5, 3, 6, 9, 6, 1, 7, 5, 4, 4, 7,\n",
       "       2, 8, 2, 2, 5, 7, 3, 5, 4, 2, 8, 4, 9, 0, 8, 9, 8, 0, 1, 2, 3, 4,\n",
       "       5, 6, 7, 8, 9, 0, 1, 2, 3, 4, 5, 6, 7, 8, 9, 0, 1, 2, 3, 4, 5, 6,\n",
       "       7, 8, 9, 0, 9, 5, 5, 6, 5, 0, 9, 5, 9, 5, 4, 1, 7, 7, 7, 5, 1, 0,\n",
       "       0, 2, 2, 7, 5, 2, 0, 1, 2, 6, 3, 3, 7, 3, 3, 4, 6, 6, 6, 4, 9, 1,\n",
       "       5, 0, 9, 5, 2, 5, 2, 0, 0, 1, 7, 6, 3, 2, 1, 7, 4, 6, 3, 1, 3, 9,\n",
       "       1, 7, 6, 8, 4, 3, 6, 4, 0, 5, 3, 6, 9, 6, 5, 7, 5, 4, 4, 7, 2, 2,\n",
       "       2, 2, 5, 7, 9, 5, 4, 8, 8, 4, 9, 5, 8, 9, 8, 0, 9, 2, 3, 4, 5, 6,\n",
       "       7, 8, 9, 0, 1, 3, 3, 0, 5, 6, 7, 8, 9, 0, 9, 3, 3, 4, 5, 6, 7, 8,\n",
       "       9, 0, 9, 5, 5, 6, 5, 0, 9, 8, 9, 8, 4, 1, 7, 7, 3, 5, 1, 0, 0, 3,\n",
       "       3, 7, 8, 3, 0, 1, 9, 6, 3, 3, 7, 3, 3, 4, 6, 6, 6, 4, 9, 1, 5, 0,\n",
       "       9, 6, 2, 8, 3, 0, 0, 1, 7, 6, 3, 2, 1, 7, 4, 6, 3, 1, 3, 9, 1, 7,\n",
       "       6, 8, 4, 3, 1, 4, 0, 5, 3, 6, 9, 6, 1, 7, 5, 4, 4, 7, 2, 8, 2, 2,\n",
       "       6, 7, 9, 5, 4, 8, 8, 4, 9, 0, 8, 0, 1, 2, 3, 4, 5, 6, 7, 9, 9, 0,\n",
       "       9, 2, 3, 4, 9, 6, 7, 9, 9, 0, 1, 2, 3, 4, 9, 6, 7, 8, 9, 0, 9, 5,\n",
       "       5, 6, 5, 0, 9, 8, 9, 8, 4, 9, 7, 7, 3, 9, 9, 0, 0, 2, 2, 7, 9, 2,\n",
       "       0, 9, 2, 6, 3, 3, 7, 3, 3, 4, 6, 6, 6, 4, 9, 9, 9, 0, 9, 5, 2, 9,\n",
       "       2, 0, 0, 9, 7, 6, 3, 2, 9, 7, 4, 6, 3, 1, 3, 9, 9, 7, 6, 9, 4, 3,\n",
       "       9, 4, 0, 9, 3, 6, 9, 6, 9, 7, 9, 4, 4, 7, 2, 9, 2, 2, 5, 7, 9, 5,\n",
       "       4, 8, 8, 4, 9, 0, 7, 9, 8, 0, 1, 2, 3, 4, 5, 1, 2, 1, 9, 0, 1, 9,\n",
       "       3, 4, 5, 6, 9, 0, 4, 2, 3, 4, 5, 1, 7, 5, 9, 4, 9, 5, 5, 6, 5, 0,\n",
       "       5, 8, 5, 8, 4, 1, 7, 7, 3, 5, 1, 0, 0, 0, 2, 8, 8, 3, 0, 1, 2, 6,\n",
       "       5, 7, 7, 7, 8, 4, 6, 6, 6, 8, 9, 1, 5, 0, 9, 5, 3, 8, 0, 1, 7, 6,\n",
       "       3, 2, 1, 2, 8, 6, 3, 1, 3, 7, 1, 7, 6, 8, 4, 3, 1, 4, 0, 5, 3, 6,\n",
       "       9, 6, 1, 7, 5, 4, 4, 7, 2, 2, 5, 7, 3, 5, 8, 4, 5, 0, 8, 5, 7, 0,\n",
       "       1, 2, 3, 4, 5, 6, 7, 3, 9, 0, 1, 2, 1, 4, 5, 6, 7, 8, 9, 0, 1, 2,\n",
       "       5, 4, 9, 6, 7, 8, 9, 0, 9, 5, 5, 6, 5, 0, 9, 8, 9, 8, 4, 1, 7, 7,\n",
       "       7, 5, 1, 0, 0, 2, 2, 7, 8, 2, 0, 1, 2, 6, 8, 8, 7, 3, 8, 4, 6, 6,\n",
       "       6, 4, 9, 1, 5, 0, 9, 9, 2, 8, 2, 0, 0, 1, 7, 6, 3, 2, 1, 7, 4, 6,\n",
       "       3, 1, 3, 9, 1, 7, 6, 8, 4, 5, 1, 4, 0, 5, 3, 6, 9, 6, 1, 7, 5, 4,\n",
       "       4, 7, 2, 8, 2, 2, 9, 7, 9, 9, 4, 8, 1, 4, 9, 0, 8, 9, 8])"
      ]
     },
     "execution_count": 57,
     "metadata": {},
     "output_type": "execute_result"
    }
   ],
   "source": [
    "img_dst.argmin(axis=1)"
   ]
  },
  {
   "cell_type": "code",
   "execution_count": 58,
   "metadata": {},
   "outputs": [
    {
     "data": {
      "text/plain": [
       "array([8, 8, 4, 9, 0, 8, 9, 8, 1, 2, 3, 4, 5, 6, 7, 8, 9, 0, 1, 2, 3, 4,\n",
       "       5, 6, 7, 8, 9, 0, 1, 2, 3, 4, 5, 6, 7, 8, 9, 0, 9, 5, 5, 6, 5, 0,\n",
       "       9, 8, 9, 8, 4, 1, 7, 7, 3, 5, 1, 2, 7, 8, 2, 0, 1, 2, 6, 3, 3, 7,\n",
       "       3, 3, 4, 6, 6, 6, 4, 9, 1, 5, 0, 9, 5, 2, 8, 2, 0, 0, 1, 7, 6, 3,\n",
       "       2, 1, 4, 6, 3, 1, 3, 9, 1, 7, 6, 8, 4, 3, 1, 4, 0, 5, 3, 6, 9, 6,\n",
       "       1, 7, 5, 4, 4, 7, 2, 8, 2, 2, 5, 7, 9, 5, 4, 4, 9, 0, 8, 9, 8, 0,\n",
       "       1, 2, 3, 4, 5, 6, 7, 8, 9, 0, 1, 2, 3, 4, 5, 6, 7, 8, 9, 0, 1, 2,\n",
       "       3, 4, 5, 6, 7, 8, 9, 0, 9, 5, 5, 6, 5, 0, 9, 8, 9, 8, 4, 1, 7, 7,\n",
       "       3, 5, 1, 0, 0, 7, 8, 2, 0, 1, 2, 6, 3, 3, 7, 3, 3, 4, 6, 6, 6, 4,\n",
       "       9, 1, 5, 0, 9, 5, 2, 8, 2, 0, 0, 1, 7, 6, 3, 2, 1, 7, 4, 6, 3, 1,\n",
       "       3, 9, 1, 7, 6, 8, 4, 3, 1, 4, 0, 5, 3, 6, 9, 6, 1, 7, 5, 4, 4, 7,\n",
       "       2, 8, 2, 2, 5, 7, 9, 5, 4, 8, 8, 4, 9, 0, 8, 9, 8, 0, 1, 2, 3, 4,\n",
       "       5, 6, 7, 8, 9, 0, 1, 2, 3, 4, 5, 6, 7, 8, 9, 0, 1, 2, 3, 4, 5, 6,\n",
       "       7, 8, 9, 0, 9, 5, 5, 6, 5, 0, 9, 8, 9, 8, 4, 1, 7, 7, 3, 5, 1, 0,\n",
       "       0, 2, 2, 7, 8, 2, 0, 1, 2, 6, 3, 3, 7, 3, 3, 4, 6, 6, 6, 4, 9, 1,\n",
       "       5, 0, 9, 5, 2, 8, 2, 0, 0, 1, 7, 6, 3, 2, 1, 7, 4, 6, 3, 1, 3, 9,\n",
       "       1, 7, 6, 8, 4, 3, 1, 4, 0, 5, 3, 6, 9, 6, 1, 7, 5, 4, 4, 7, 2, 8,\n",
       "       2, 2, 5, 7, 9, 5, 4, 8, 8, 4, 9, 0, 8, 9, 8, 0, 1, 2, 3, 4, 5, 6,\n",
       "       7, 8, 9, 0, 1, 2, 3, 4, 5, 6, 7, 8, 9, 0, 1, 2, 3, 4, 5, 6, 7, 8,\n",
       "       9, 0, 9, 5, 5, 6, 5, 0, 9, 8, 9, 8, 4, 1, 7, 7, 3, 5, 1, 0, 0, 2,\n",
       "       2, 7, 8, 2, 0, 1, 2, 6, 3, 3, 7, 3, 3, 4, 6, 6, 6, 4, 9, 1, 5, 0,\n",
       "       9, 5, 2, 8, 2, 0, 0, 1, 7, 6, 3, 2, 1, 7, 4, 6, 3, 1, 3, 9, 1, 7,\n",
       "       6, 8, 4, 3, 1, 4, 0, 5, 3, 6, 9, 6, 1, 7, 5, 4, 4, 7, 2, 8, 2, 2,\n",
       "       5, 7, 9, 5, 4, 8, 8, 4, 9, 0, 8, 0, 1, 2, 3, 4, 5, 6, 7, 8, 9, 0,\n",
       "       1, 2, 3, 4, 5, 6, 7, 8, 9, 0, 1, 2, 3, 4, 5, 6, 7, 8, 9, 0, 9, 5,\n",
       "       5, 6, 5, 0, 9, 8, 9, 8, 4, 1, 7, 7, 3, 5, 1, 0, 0, 2, 2, 7, 8, 2,\n",
       "       0, 1, 2, 6, 3, 3, 7, 3, 3, 4, 6, 6, 6, 4, 9, 1, 5, 0, 9, 5, 2, 8,\n",
       "       2, 0, 0, 1, 7, 6, 3, 2, 1, 7, 4, 6, 3, 1, 3, 9, 1, 7, 6, 8, 4, 3,\n",
       "       1, 4, 0, 5, 3, 6, 9, 6, 1, 7, 5, 4, 4, 7, 2, 8, 2, 2, 5, 7, 9, 5,\n",
       "       4, 8, 8, 4, 9, 0, 8, 9, 8, 0, 1, 2, 3, 4, 5, 6, 7, 8, 9, 0, 1, 2,\n",
       "       3, 4, 5, 6, 9, 0, 1, 2, 3, 4, 5, 6, 7, 8, 9, 0, 9, 5, 5, 6, 5, 0,\n",
       "       9, 8, 9, 8, 4, 1, 7, 7, 3, 5, 1, 0, 0, 2, 2, 7, 8, 2, 0, 1, 2, 6,\n",
       "       3, 3, 7, 3, 3, 4, 6, 6, 6, 4, 9, 1, 5, 0, 9, 5, 2, 8, 0, 1, 7, 6,\n",
       "       3, 2, 1, 7, 4, 6, 3, 1, 3, 9, 1, 7, 6, 8, 4, 3, 1, 4, 0, 5, 3, 6,\n",
       "       9, 6, 1, 7, 5, 4, 4, 7, 2, 2, 5, 7, 9, 5, 4, 4, 9, 0, 8, 9, 8, 0,\n",
       "       1, 2, 3, 4, 5, 6, 7, 8, 9, 0, 1, 2, 3, 4, 5, 6, 7, 8, 9, 0, 1, 2,\n",
       "       3, 4, 5, 6, 7, 8, 9, 0, 9, 5, 5, 6, 5, 0, 9, 8, 9, 8, 4, 1, 7, 7,\n",
       "       3, 5, 1, 0, 0, 2, 2, 7, 8, 2, 0, 1, 2, 6, 3, 3, 7, 3, 3, 4, 6, 6,\n",
       "       6, 4, 9, 1, 5, 0, 9, 5, 2, 8, 2, 0, 0, 1, 7, 6, 3, 2, 1, 7, 4, 6,\n",
       "       3, 1, 3, 9, 1, 7, 6, 8, 4, 3, 1, 4, 0, 5, 3, 6, 9, 6, 1, 7, 5, 4,\n",
       "       4, 7, 2, 8, 2, 2, 5, 7, 9, 5, 4, 8, 8, 4, 9, 0, 8, 9, 8])"
      ]
     },
     "execution_count": 58,
     "metadata": {},
     "output_type": "execute_result"
    }
   ],
   "source": [
    "y_test"
   ]
  },
  {
   "cell_type": "code",
   "execution_count": 72,
   "metadata": {},
   "outputs": [
    {
     "data": {
      "text/plain": [
       "<AxesSubplot:>"
      ]
     },
     "execution_count": 72,
     "metadata": {},
     "output_type": "execute_result"
    },
    {
     "data": {
      "image/png": "[encoded data removed]",
      "text/plain": [
       "<Figure size 640x480 with 2 Axes>"
      ]
     },
     "metadata": {},
     "output_type": "display_data"
    }
   ],
   "source": [
    "import seaborn as sns\n",
    "from sklearn.metrics import confusion_matrix\n",
    "cf_matrix = confusion_matrix(y_test, y_pred)\n",
    "sns.heatmap(cf_matrix, )"
   ]
  },
  {
   "cell_type": "code",
   "execution_count": 69,
   "metadata": {},
   "outputs": [],
   "source": [
    "from scipy.spatial.distance import cdist\n",
    "from sklearn.base import BaseEstimator, ClassifierMixin\n",
    "\n",
    "# Estimateur Scikit-Learn par héritage\n",
    "class NearestCentroidClassifier(BaseEstimator, ClassifierMixin):\n",
    "    def fit(self, X, y):\n",
    "        centroids_train = []\n",
    "        self.classes_ = np.unique(y)\n",
    "        for klazz in self.classes_:\n",
    "            mask_img = y == klazz\n",
    "            centroids_train.append(X[mask_img].mean(axis=0))\n",
    "        self.centroids_train = np.array(centroids_train)\n",
    "        return self\n",
    "        \n",
    "    def predict(self, X):\n",
    "        return cdist(X_test, centroids_train).argmin(axis=1)"
   ]
  },
  {
   "cell_type": "code",
   "execution_count": 70,
   "metadata": {},
   "outputs": [],
   "source": [
    "clf = NearestCentroidClassifier()"
   ]
  },
  {
   "cell_type": "code",
   "execution_count": 71,
   "metadata": {},
   "outputs": [
    {
     "data": {
      "text/plain": [
       "array([9, 8, 4, 9, 0, 8, 9, 1, 2, 2, 3, 4, 5, 6, 7, 8, 9, 0, 2, 2, 3, 4,\n",
       "       9, 6, 7, 8, 9, 0, 2, 2, 3, 4, 9, 6, 7, 8, 9, 0, 9, 9, 9, 6, 9, 0,\n",
       "       9, 8, 9, 8, 4, 3, 7, 7, 3, 9, 2, 2, 7, 8, 2, 0, 1, 2, 6, 3, 3, 7,\n",
       "       3, 3, 4, 6, 6, 6, 4, 9, 1, 5, 0, 9, 9, 2, 8, 2, 0, 0, 1, 7, 6, 3,\n",
       "       2, 2, 4, 6, 3, 2, 3, 9, 1, 7, 6, 8, 4, 3, 2, 4, 0, 5, 3, 6, 9, 6,\n",
       "       2, 7, 9, 4, 4, 7, 2, 8, 2, 2, 9, 7, 9, 5, 4, 4, 9, 0, 8, 9, 8, 0,\n",
       "       1, 2, 3, 4, 5, 6, 7, 8, 3, 0, 1, 2, 3, 4, 5, 6, 7, 8, 9, 0, 1, 2,\n",
       "       3, 4, 5, 6, 7, 8, 9, 0, 9, 5, 5, 6, 5, 0, 9, 8, 9, 8, 4, 1, 7, 7,\n",
       "       3, 5, 1, 0, 0, 7, 2, 2, 0, 1, 2, 6, 3, 3, 7, 3, 3, 4, 6, 6, 6, 7,\n",
       "       9, 1, 5, 0, 5, 5, 2, 8, 3, 0, 0, 1, 7, 6, 3, 2, 1, 7, 4, 6, 3, 1,\n",
       "       7, 9, 1, 7, 6, 8, 4, 3, 1, 4, 0, 5, 3, 6, 9, 6, 1, 7, 5, 4, 4, 7,\n",
       "       2, 8, 2, 2, 5, 7, 3, 5, 4, 2, 8, 4, 9, 0, 8, 9, 8, 0, 1, 2, 3, 4,\n",
       "       5, 6, 7, 8, 9, 0, 1, 2, 3, 4, 5, 6, 7, 8, 9, 0, 1, 2, 3, 4, 5, 6,\n",
       "       7, 8, 9, 0, 9, 5, 5, 6, 5, 0, 9, 5, 9, 5, 4, 1, 7, 7, 7, 5, 1, 0,\n",
       "       0, 2, 2, 7, 5, 2, 0, 1, 2, 6, 3, 3, 7, 3, 3, 4, 6, 6, 6, 4, 9, 1,\n",
       "       5, 0, 9, 5, 2, 5, 2, 0, 0, 1, 7, 6, 3, 2, 1, 7, 4, 6, 3, 1, 3, 9,\n",
       "       1, 7, 6, 8, 4, 3, 6, 4, 0, 5, 3, 6, 9, 6, 5, 7, 5, 4, 4, 7, 2, 2,\n",
       "       2, 2, 5, 7, 9, 5, 4, 8, 8, 4, 9, 5, 8, 9, 8, 0, 9, 2, 3, 4, 5, 6,\n",
       "       7, 8, 9, 0, 1, 3, 3, 0, 5, 6, 7, 8, 9, 0, 9, 3, 3, 4, 5, 6, 7, 8,\n",
       "       9, 0, 9, 5, 5, 6, 5, 0, 9, 8, 9, 8, 4, 1, 7, 7, 3, 5, 1, 0, 0, 3,\n",
       "       3, 7, 8, 3, 0, 1, 9, 6, 3, 3, 7, 3, 3, 4, 6, 6, 6, 4, 9, 1, 5, 0,\n",
       "       9, 6, 2, 8, 3, 0, 0, 1, 7, 6, 3, 2, 1, 7, 4, 6, 3, 1, 3, 9, 1, 7,\n",
       "       6, 8, 4, 3, 1, 4, 0, 5, 3, 6, 9, 6, 1, 7, 5, 4, 4, 7, 2, 8, 2, 2,\n",
       "       6, 7, 9, 5, 4, 8, 8, 4, 9, 0, 8, 0, 1, 2, 3, 4, 5, 6, 7, 9, 9, 0,\n",
       "       9, 2, 3, 4, 9, 6, 7, 9, 9, 0, 1, 2, 3, 4, 9, 6, 7, 8, 9, 0, 9, 5,\n",
       "       5, 6, 5, 0, 9, 8, 9, 8, 4, 9, 7, 7, 3, 9, 9, 0, 0, 2, 2, 7, 9, 2,\n",
       "       0, 9, 2, 6, 3, 3, 7, 3, 3, 4, 6, 6, 6, 4, 9, 9, 9, 0, 9, 5, 2, 9,\n",
       "       2, 0, 0, 9, 7, 6, 3, 2, 9, 7, 4, 6, 3, 1, 3, 9, 9, 7, 6, 9, 4, 3,\n",
       "       9, 4, 0, 9, 3, 6, 9, 6, 9, 7, 9, 4, 4, 7, 2, 9, 2, 2, 5, 7, 9, 5,\n",
       "       4, 8, 8, 4, 9, 0, 7, 9, 8, 0, 1, 2, 3, 4, 5, 1, 2, 1, 9, 0, 1, 9,\n",
       "       3, 4, 5, 6, 9, 0, 4, 2, 3, 4, 5, 1, 7, 5, 9, 4, 9, 5, 5, 6, 5, 0,\n",
       "       5, 8, 5, 8, 4, 1, 7, 7, 3, 5, 1, 0, 0, 0, 2, 8, 8, 3, 0, 1, 2, 6,\n",
       "       5, 7, 7, 7, 8, 4, 6, 6, 6, 8, 9, 1, 5, 0, 9, 5, 3, 8, 0, 1, 7, 6,\n",
       "       3, 2, 1, 2, 8, 6, 3, 1, 3, 7, 1, 7, 6, 8, 4, 3, 1, 4, 0, 5, 3, 6,\n",
       "       9, 6, 1, 7, 5, 4, 4, 7, 2, 2, 5, 7, 3, 5, 8, 4, 5, 0, 8, 5, 7, 0,\n",
       "       1, 2, 3, 4, 5, 6, 7, 3, 9, 0, 1, 2, 1, 4, 5, 6, 7, 8, 9, 0, 1, 2,\n",
       "       5, 4, 9, 6, 7, 8, 9, 0, 9, 5, 5, 6, 5, 0, 9, 8, 9, 8, 4, 1, 7, 7,\n",
       "       7, 5, 1, 0, 0, 2, 2, 7, 8, 2, 0, 1, 2, 6, 8, 8, 7, 3, 8, 4, 6, 6,\n",
       "       6, 4, 9, 1, 5, 0, 9, 9, 2, 8, 2, 0, 0, 1, 7, 6, 3, 2, 1, 7, 4, 6,\n",
       "       3, 1, 3, 9, 1, 7, 6, 8, 4, 5, 1, 4, 0, 5, 3, 6, 9, 6, 1, 7, 5, 4,\n",
       "       4, 7, 2, 8, 2, 2, 9, 7, 9, 9, 4, 8, 1, 4, 9, 0, 8, 9, 8])"
      ]
     },
     "execution_count": 71,
     "metadata": {},
     "output_type": "execute_result"
    }
   ],
   "source": [
    "clf.fit(X_train, y_train).predict(X_test)"
   ]
  },
  {
   "cell_type": "code",
   "execution_count": 63,
   "metadata": {},
   "outputs": [
    {
     "data": {
      "text/plain": [
       "0.8754171301446051"
      ]
     },
     "execution_count": 63,
     "metadata": {},
     "output_type": "execute_result"
    }
   ],
   "source": [
    "clf.score(X_test, y_test)"
   ]
  },
  {
   "cell_type": "code",
   "execution_count": null,
   "metadata": {},
   "outputs": [],
   "source": []
  }
 ],
 "metadata": {
  "kernelspec": {
   "display_name": "Python 3",
   "language": "python",
   "name": "python3"
  },
  "language_info": {
   "codemirror_mode": {
    "name": "ipython",
    "version": 3
   },
   "file_extension": ".py",
   "mimetype": "text/x-python",
   "name": "python",
   "nbconvert_exporter": "python",
   "pygments_lexer": "ipython3",
   "version": "3.8.13"
  },
  "widgets": {
   "state": {},
   "version": "1.1.2"
  }
 },
 "nbformat": 4,
 "nbformat_minor": 1
}
