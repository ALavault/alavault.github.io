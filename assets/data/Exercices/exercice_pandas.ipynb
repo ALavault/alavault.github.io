{
 "cells": [
  {
   "attachments": {},
   "cell_type": "markdown",
   "metadata": {},
   "source": [
    "# Exploration de données avec Pandas (Exercices)"
   ]
  },
  {
   "attachments": {},
   "cell_type": "markdown",
   "metadata": {},
   "source": [
    "Ce notebook est inspiré d'une présentation faite par Alexandre Gramfort (INRIA)."
   ]
  },
  {
   "cell_type": "code",
   "execution_count": null,
   "metadata": {},
   "outputs": [],
   "source": [
    "%matplotlib inline\n",
    "import os\n",
    "import pandas as pd\n",
    "import geopandas as gpd #conda install geopandas\n",
    "import numpy as np\n",
    "import matplotlib.pyplot as plt"
   ]
  },
  {
   "attachments": {},
   "cell_type": "markdown",
   "metadata": {},
   "source": [
    "Objectif: faire une joli visualisation des résultats d'un référendum d'une manière similaire à:\n",
    "\n",
    "<img align=\"left\" width=50% src=\"./image/example_map.png\">\n",
    "\n",
    "L'autre objectif est de découvrir Pandas en autonomie. Pandas est un module de traitement des données qui permet d'abstraire un grand nombre de formats à travers une abstraction à haut-niveau : le DataFrame."
   ]
  },
  {
   "attachments": {},
   "cell_type": "markdown",
   "metadata": {},
   "source": [
    "## Activités"
   ]
  },
  {
   "attachments": {},
   "cell_type": "markdown",
   "metadata": {},
   "source": [
    "* Ouvrir le fichier `data/referendum.csv` and présenter les 5 premières lignes pour identifier la structure des données. Le séparateur sera le point virgule.\n",
    "\n",
    "*Indication*: il existe une méthode de l'object DataFrame qui permet d'afficher les premiers éléments (i.e lignes)."
   ]
  },
  {
   "cell_type": "code",
   "execution_count": null,
   "metadata": {},
   "outputs": [],
   "source": []
  },
  {
   "cell_type": "code",
   "execution_count": null,
   "metadata": {},
   "outputs": [],
   "source": []
  },
  {
   "attachments": {},
   "cell_type": "markdown",
   "metadata": {},
   "source": [
    "* Il n'y a pas d'informations sur les régions. On a cependant un deuxième dataset `data/regions.csv` qui contient cette information. Même question qu'au dessus."
   ]
  },
  {
   "cell_type": "code",
   "execution_count": null,
   "metadata": {},
   "outputs": [],
   "source": []
  },
  {
   "attachments": {},
   "cell_type": "markdown",
   "metadata": {},
   "source": [
    "* Même question pour`data/departments.csv`."
   ]
  },
  {
   "cell_type": "code",
   "execution_count": null,
   "metadata": {},
   "outputs": [],
   "source": []
  },
  {
   "attachments": {},
   "cell_type": "markdown",
   "metadata": {},
   "source": [
    "* Trouvez la colonne dans le dataframe des départements qui est liée à la colonne `code` du dataframe des régions. \n",
    "* Fusionnez les deux dataframes en utilisant ces informations. Montrez les 5 premières lignes du dataframe résultant.\n",
    "\n",
    "*Indication*: il existe une **méthode** pour la fusion de DataFrames."
   ]
  },
  {
   "cell_type": "code",
   "execution_count": null,
   "metadata": {},
   "outputs": [],
   "source": []
  },
  {
   "attachments": {},
   "cell_type": "markdown",
   "metadata": {},
   "source": [
    "* Dans le cadre des données précédentes, une colonne est liée au code du département qui peut être fusionné avec nos données de référendum comme nous l'avons fait précédemment. Puisque nous avons déjà obtenu des informations sur les régions, nous pouvons obtenir le DataFrame des régions avec une nouvelle fusion. \n",
    "* Montrez les 5 premières lignes du dataframe fusionné."
   ]
  },
  {
   "cell_type": "code",
   "execution_count": null,
   "metadata": {},
   "outputs": [],
   "source": []
  },
  {
   "attachments": {},
   "cell_type": "markdown",
   "metadata": {},
   "source": [
    "* Regroupez et additionnez les votes par région et montrez le cadre de données résultant.\n",
    "\n",
    "*Indication*: c'est une commande bien connue en base de données qui groupe les éléments par...."
   ]
  },
  {
   "cell_type": "code",
   "execution_count": null,
   "metadata": {},
   "outputs": [],
   "source": []
  },
  {
   "attachments": {},
   "cell_type": "markdown",
   "metadata": {},
   "source": [
    "* En prenant l'exemple précédent, tracez le vote pour le \"choix A\" et le \"choix B\". Utilisez le fichier `regions.geojson` qui contient des informations géographiques concernant la région. Vous pouvez utiliser `geopandas` qui chargera ces informations dans un dataframe que vous pourrez fusionner avec n'importe quel autre dataframe.\n",
    "* Une fois les données fusionnées, vous pouvez tracer le nombre absolu et le ratio de votes par région."
   ]
  },
  {
   "cell_type": "code",
   "execution_count": null,
   "metadata": {},
   "outputs": [],
   "source": []
  },
  {
   "cell_type": "code",
   "execution_count": null,
   "metadata": {},
   "outputs": [],
   "source": []
  },
  {
   "cell_type": "code",
   "execution_count": null,
   "metadata": {},
   "outputs": [],
   "source": []
  }
 ],
 "metadata": {
  "kernelspec": {
   "display_name": "Python 3",
   "language": "python",
   "name": "python3"
  },
  "language_info": {
   "codemirror_mode": {
    "name": "ipython",
    "version": 3
   },
   "file_extension": ".py",
   "mimetype": "text/x-python",
   "name": "python",
   "nbconvert_exporter": "python",
   "pygments_lexer": "ipython3",
   "version": "3.8.13"
  }
 },
 "nbformat": 4,
 "nbformat_minor": 4
}
