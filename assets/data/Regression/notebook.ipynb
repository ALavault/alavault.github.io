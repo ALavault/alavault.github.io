{
 "cells": [
  {
   "cell_type": "code",
   "execution_count": null,
   "metadata": {},
   "outputs": [],
   "source": [
    "import numpy as np\n",
    "import matplotlib.pyplot as plt \n",
    "import seaborn as sns\n",
    "import pandas as pd\n",
    "from sklearn import datasets, linear_model"
   ]
  },
  {
   "attachments": {},
   "cell_type": "markdown",
   "metadata": {},
   "source": [
    "# Regression"
   ]
  },
  {
   "attachments": {},
   "cell_type": "markdown",
   "metadata": {},
   "source": [
    "## Echauffement\n",
    "\n",
    "Le but de cet échauffement va être de prendre en main Scikit-Learn dans le cas de la régression linéaire par moindres carrées."
   ]
  },
  {
   "attachments": {},
   "cell_type": "markdown",
   "metadata": {},
   "source": [
    "### Evaluation d'un modèle de regression\n",
    "\n",
    "Pour évaluer la qualité de la prédiction, on peut utiliser différents critères.\n",
    "\n",
    "Dans un premier temps, on introduit :\n",
    "$$ \\mathrm {ESS} =\\mathrm {SCE} =\\sum _{i=1}^{n}({\\hat {y_{i}}}-{\\bar {y}})^{2}$$ \n",
    "qui est la variation expliquée par la régression (Explained Sum of Squares , en français SCE Somme des Carrés Expliquée [par la régression], comparaison à la moyenne).\n",
    "$$ \\mathrm {RSS} =\\mathrm {SCR} =\\sum _{i=1}^{n}(y_{i}-{\\hat {y_{i}}})^{2}$$ \n",
    "qui est la variation expliquée par les résidus (Residuals Sum of Squares, en français SCR Somme des Carrés Résiduelle).\n",
    "$$\\mathrm {TSS} =\\mathrm {SCT} =\\mathrm {ESS} +\\mathrm {RSS}$$ \n",
    "qui est la variation totale (Total Sum of Squares, en français SCT Somme des Carrés Totale).\n",
    "\n",
    "Un résidu correspond à la différence entre la valeur prédite et la valeur réelle.\n",
    "\n",
    "Nous pouvons alors définir le coefficient de détermination (R2) comme le ratio entre la somme des carrés des écarts à la moyenne des valeurs prédites par la régression et la somme des carrés des écarts à la moyenne totale :\n",
    "\n",
    "$$ {\\displaystyle R^{2}={\\frac {\\mathrm {ESS} }{\\mathrm {TSS} }}={\\frac {\\mathrm {TSS} -\\mathrm {RSS} }{\\mathrm {TSS} }}={\\frac {\\sum _{i=1}^{n}({\\hat {y_{i}}}-{\\bar {y}})^{2}}{\\sum _{i=1}^{n}(y_{i}-{\\bar {y}})^{2}}}=1-{\\frac {\\sum _{i=1}^{n}(y_{i}-{\\hat {y_{i}}})^{2}}{\\sum _{i=1}^{n}(y_{i}-{\\bar {y}})^{2}}}={\\frac {\\operatorname {cov} (\\mathrm {X} ,\\mathrm {Y} )^{2}}{\\operatorname {var} (\\mathrm {X} )\\operatorname {var} (\\mathrm {Y} )}}}$$\n",
    "\n",
    "Le coefficient de détermination varie entre 0 et 1. Lorsqu'il est proche de 0, le pouvoir prédictif du modèle est faible et lorsqu'il est proche de 1, le pouvoir prédictif du modèle est fort. "
   ]
  },
  {
   "attachments": {},
   "cell_type": "markdown",
   "metadata": {},
   "source": [
    "### Exercice\n",
    "\n",
    "Pour le jeu de données synthétique ci-dessous :\n",
    "* appliquer un modèle de régression linéaire et mesurer son R2 de deux manières différences (Indication : regarder la documentation de la régression linéaire de scikit learn et ré-utiliser ce que vous avez fait avant)\n",
    "* Calculer les ESS, TSS et RSS. Etant donné que l'on a un très bon modèle, que dire de ces métriques.\n",
    "* Avec votre modèle, créer un graphe des résidus (i.e modèle - prédiction).\n",
    "* Avec votre modèle, créer un histogramme des résidus. Observations ?\n"
   ]
  },
  {
   "cell_type": "code",
   "execution_count": null,
   "metadata": {},
   "outputs": [],
   "source": [
    "n_samples = 1000\n",
    "\n",
    "X, y, coef = datasets.make_regression(\n",
    "    n_samples=n_samples,\n",
    "    n_features=1,\n",
    "    n_informative=1,\n",
    "    noise=10,\n",
    "    coef=True,\n",
    "    random_state=0,\n",
    ")\n",
    "\n",
    "# Fit LSR using all data\n",
    "lr = COMPLETEME\n",
    "# Predict data of estimated models\n",
    "line_X = np.arange(X.min(), X.max())[:, np.newaxis]\n",
    "line_y = lr.predict(line_X)\n",
    "\n",
    "# Compare estimated coefficients\n",
    "print(\"Estimated coefficients (true, linear regression):\")\n",
    "print(coef, lr.coef_,)\n",
    "plt.scatter(\n",
    "    X, y, color=\"yellowgreen\", marker=\".\", label=\"Data\"\n",
    ")\n",
    "\n",
    "plt.plot(line_X, line_y, color=\"navy\", linewidth=2, label=\"Linear regressor\")\n",
    "\n",
    "plt.legend(loc=\"lower right\")\n",
    "plt.xlabel(\"Input\")\n",
    "plt.ylabel(\"Response\")\n",
    "plt.show()\n",
    "\n",
    "plt.figure()\n",
    "plt.legend(loc=\"lower right\")\n",
    "plt.plot(COMPLETEME)\n",
    "plt.xlabel(\"Input\")\n",
    "plt.ylabel(\"Residuals\")"
   ]
  },
  {
   "attachments": {},
   "cell_type": "markdown",
   "metadata": {},
   "source": [
    "## Miles-Per-Gallon\n",
    "\n",
    "Le but de cette section est de proposer un modèle qui permettra de comparer les performances d'une voiture moderne comparée à celles disponibles dans les années 80.\n",
    "\n",
    "La voiture cible est une Renault Mégane 3 1.5dCI Eco 2, qui a pour caractéristiques :\n",
    "* Consommation ville (pire scénario possible) : 5.1L/100km\n",
    "* Consommation mixte : 4.4L/100km\n",
    "* Poids : 1743 kg\n",
    "* Année : 2009\n",
    "* Cylindres : 4\n",
    "* Puissance : 85ch (on rigole pas au fond)\n",
    "* Cylindrée : 1461 $cm^3$\n",
    "* Acceleration (400m DA) : 19.6s\n",
    "\n",
    "Question : est-ce qu'une Mégane de 2009 a consommation plus avantageuses que des voitures des années 70-80 ?\n",
    "\n",
    "Suggestions :\n",
    "* Certaines données ont moins d'importances que d'autres, à vous de choisir les \"bonnes\".\n",
    "* A vous de vous renseigner sur la signification des colonnes.\n",
    "* Les variables discrètes peuvent être encodées avec des vecteurs one-hot, si besoin est."
   ]
  },
  {
   "cell_type": "code",
   "execution_count": null,
   "metadata": {},
   "outputs": [],
   "source": [
    "mpg = sns.load_dataset(\"mpg\")\n",
    "mpg"
   ]
  },
  {
   "attachments": {},
   "cell_type": "markdown",
   "metadata": {},
   "source": [
    "### Nettoyage\n",
    "\n",
    "Les vraies datasets sont généralement \"sales\", ou en tout cas incomplets. La première étape consiste donc à nettoyer, c'est à dire vérifier où les valeurs manquent, et quelle solution apporté."
   ]
  },
  {
   "cell_type": "code",
   "execution_count": null,
   "metadata": {},
   "outputs": [],
   "source": [
    "mpg[mpg.isnull().any(axis=1)]"
   ]
  },
  {
   "attachments": {},
   "cell_type": "markdown",
   "metadata": {},
   "source": [
    "Vu le faible nombre (6/397), on peut se permettre de supprimer ces données sans impact statistique."
   ]
  },
  {
   "cell_type": "code",
   "execution_count": null,
   "metadata": {},
   "outputs": [],
   "source": [
    "mpg = mpg.dropna()"
   ]
  },
  {
   "cell_type": "code",
   "execution_count": null,
   "metadata": {},
   "outputs": [],
   "source": [
    "mpg_stats = mpg.describe()\n",
    "mpg_stats.pop(\"mpg\")\n",
    "mpg_stats = mpg_stats.transpose()\n",
    "mpg_stats"
   ]
  },
  {
   "attachments": {},
   "cell_type": "markdown",
   "metadata": {},
   "source": [
    "## Au boulot...\n",
    "\n",
    "Les données sont propres. A vous de jouer !\n",
    "\n",
    "Le but est de proposer un modèle d'estimation du MPG à partir de données d'entrées liées à un ensemble d’entraînement et de l'appliquer pour voir si les voitures \"modernes\" sont devenues vraiment mieux sur ce point.\n",
    "\n",
    "Toutefois, on suggère les tâches suivantes pour arriver à une réponse :\n",
    "* Visualisation de \"MPG\", \"Cylinders\", \"Displacement\" et \"Weight\" (quelle visualisation irait bien ?)\n",
    "* Evaluation statistiques (hors MPG, qui est la cible, voir au dessus)\n",
    "* Normalisation des données (i.e moyenne et écart type 1)\n",
    "* Selection des données (utiliser une heatmap pour voir la corrélation entre les données)\n",
    "* Appliquer un système de validation pour montrer que votre modèle est capable de généraliser.\n",
    "* Appliquer un modèle de regression aux données choisies et traitées (Indication : il n'y a pas que les moindres carrés dans la vie, mais c'est un bon début en particulier pour comparer à des méthodes plus évoluées)\n",
    "* Conclure par rapport à la Mégane contre les vieilles voitures (Indication : estimer le mpg de la Mégane avec votre modèle puis comparer à la fiche technique, ensuite conclure)."
   ]
  },
  {
   "cell_type": "code",
   "execution_count": null,
   "metadata": {},
   "outputs": [],
   "source": []
  }
 ],
 "metadata": {
  "kernelspec": {
   "display_name": "base",
   "language": "python",
   "name": "python3"
  },
  "language_info": {
   "codemirror_mode": {
    "name": "ipython",
    "version": 3
   },
   "file_extension": ".py",
   "mimetype": "text/x-python",
   "name": "python",
   "nbconvert_exporter": "python",
   "pygments_lexer": "ipython3",
   "version": "3.8.13"
  },
  "orig_nbformat": 4
 },
 "nbformat": 4,
 "nbformat_minor": 2
}
